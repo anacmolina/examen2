{
  "cells": [
    {
      "cell_type": "markdown",
      "metadata": {
        "id": "view-in-github",
        "colab_type": "text"
      },
      "source": [
        "<a href=\"https://colab.research.google.com/github/anacmolina/examen2/blob/main/examen2.ipynb\" target=\"_parent\"><img src=\"https://colab.research.google.com/assets/colab-badge.svg\" alt=\"Open In Colab\"/></a>"
      ]
    },
    {
      "cell_type": "code",
      "source": [
        "import json\n",
        "import pandas as pd\n",
        "from google.colab import files\n",
        "#From https://gist.github.com/korakot/072f1ea70d3c3267ff2c64b61d78c89c\n",
        "import json\n",
        "from IPython.display import HTML\n",
        "\n",
        "def JSON(jstr):\n",
        "  if type(jstr) != str:\n",
        "    jstr = json.dumps(jstr)\n",
        "  return HTML(\"\"\"\n",
        "\n",
        "\n",
        "renderjson.set_show_to_level(1)\n",
        "document.body.appendChild(renderjson(%s))\n",
        "new ResizeObserver(google.colab.output.resizeIframeToContent).observe(document.body)\n",
        "\n",
        "\"\"\" % jstr)"
      ],
      "metadata": {
        "id": "kNnYBJ_cJ5Fn"
      },
      "execution_count": 1,
      "outputs": []
    },
    {
      "cell_type": "code",
      "source": [
        "import numpy as np"
      ],
      "metadata": {
        "id": "xfTV-iHXvyT-"
      },
      "execution_count": 2,
      "outputs": []
    },
    {
      "cell_type": "code",
      "source": [
        "from google.colab import drive\n",
        "drive.mount('/content/drive')"
      ],
      "metadata": {
        "id": "jPSCsl7NMORO",
        "outputId": "f52a1467-1be0-47c2-ead8-916b52183dd8",
        "colab": {
          "base_uri": "https://localhost:8080/"
        }
      },
      "execution_count": 3,
      "outputs": [
        {
          "output_type": "stream",
          "name": "stdout",
          "text": [
            "Drive already mounted at /content/drive; to attempt to forcibly remount, call drive.mount(\"/content/drive\", force_remount=True).\n"
          ]
        }
      ]
    },
    {
      "cell_type": "code",
      "source": [
        "with open('/content/drive/MyDrive/json/openalexco.json','r') as miarchivo:\n",
        "    objeto=miarchivo.read()\n",
        "objeto=json.loads(objeto)"
      ],
      "metadata": {
        "id": "4w4vq_LFV3jP"
      },
      "execution_count": 4,
      "outputs": []
    },
    {
      "cell_type": "code",
      "source": [
        "objeto=pd.DataFrame(objeto)\n",
        "objeto.shape"
      ],
      "metadata": {
        "id": "ZC5iogNOa-Rj",
        "colab": {
          "base_uri": "https://localhost:8080/"
        },
        "outputId": "469d2c3a-b2e6-44a1-8893-05b216344e92"
      },
      "execution_count": 5,
      "outputs": [
        {
          "output_type": "execute_result",
          "data": {
            "text/plain": [
              "(343057, 25)"
            ]
          },
          "metadata": {},
          "execution_count": 5
        }
      ]
    },
    {
      "cell_type": "code",
      "source": [
        "def filter_ror(authorships,ror=\"https://ror.org/03bp5hc83\"):\n",
        "  return any([any([i.get('ror')==ror for i in a.get('institutions')])  for a in authorships])\n"
      ],
      "metadata": {
        "id": "wRUzRmGvV75e"
      },
      "execution_count": 6,
      "outputs": []
    },
    {
      "cell_type": "code",
      "source": [
        "objeto = objeto[objeto['authorships'].apply(filter_ror)]\n",
        "objeto.shape"
      ],
      "metadata": {
        "id": "CK2ARx31Yx2b",
        "colab": {
          "base_uri": "https://localhost:8080/"
        },
        "outputId": "f6559ec0-2c4a-4a40-e0fc-98840b6ca95e"
      },
      "execution_count": 7,
      "outputs": [
        {
          "output_type": "execute_result",
          "data": {
            "text/plain": [
              "(34291, 25)"
            ]
          },
          "metadata": {},
          "execution_count": 7
        }
      ]
    },
    {
      "cell_type": "code",
      "source": [
        "# By research group max_planck"
      ],
      "metadata": {
        "id": "kLWvn6gUooYd"
      },
      "execution_count": 8,
      "outputs": []
    },
    {
      "cell_type": "code",
      "source": [
        "research_gruop = (\"Biophysics of tropical diseases\").lower()"
      ],
      "metadata": {
        "id": "gLoxa0Dro1aq"
      },
      "execution_count": 9,
      "outputs": []
    },
    {
      "cell_type": "code",
      "source": [
        "def filter_by_RG(authorships, research_gruop = research_gruop):\n",
        "    return any([research_gruop in str(each_author.get('raw_affiliation_string')).lower() for each_author in authorships])"
      ],
      "metadata": {
        "id": "pDmvM5ryosLc"
      },
      "execution_count": 10,
      "outputs": []
    },
    {
      "cell_type": "code",
      "source": [
        "max_planck = objeto.copy()\n",
        "max_planck = max_planck[max_planck['authorships'].apply(filter_by_RG)]\n",
        "max_planck.shape"
      ],
      "metadata": {
        "colab": {
          "base_uri": "https://localhost:8080/"
        },
        "id": "bPCSotvaosHt",
        "outputId": "e20ed3a4-5324-417a-fb2a-598e4d3ac68e"
      },
      "execution_count": 11,
      "outputs": [
        {
          "output_type": "execute_result",
          "data": {
            "text/plain": [
              "(27, 25)"
            ]
          },
          "metadata": {},
          "execution_count": 11
        }
      ]
    },
    {
      "cell_type": "code",
      "source": [
        "def flatten(l):\n",
        "    return [item for sublist in l for item in sublist]"
      ],
      "metadata": {
        "id": "DgC7ZEJmwVFK"
      },
      "execution_count": 12,
      "outputs": []
    },
    {
      "cell_type": "code",
      "source": [
        "def max_planck_level_0(concepts):\n",
        "    return [d.get('display_name') for d in concepts if 0 == d.get('level')]\n",
        "\n",
        "def max_planck_level_1(concepts):\n",
        "    return [d.get('display_name') for d in concepts if 1 == d.get('level')]\n",
        "\n",
        "def max_planck_level_2(concepts):\n",
        "    return [d.get('display_name') for d in concepts if 2 == d.get('level')]"
      ],
      "metadata": {
        "id": "vnLSVTQhuM19"
      },
      "execution_count": 13,
      "outputs": []
    },
    {
      "cell_type": "code",
      "source": [
        "#max_planck['concepts'].apply(max_planck_level_0)"
      ],
      "metadata": {
        "id": "-kgM5teko_RN"
      },
      "execution_count": 14,
      "outputs": []
    },
    {
      "cell_type": "code",
      "source": [
        "#max_planck['concepts'].apply(max_planck_level_1)"
      ],
      "metadata": {
        "id": "mvscXmzKxtj5"
      },
      "execution_count": 15,
      "outputs": []
    },
    {
      "cell_type": "code",
      "source": [
        "#max_planck['concepts'].apply(max_planck_level_2)"
      ],
      "metadata": {
        "id": "esT4nQNKxune"
      },
      "execution_count": 16,
      "outputs": []
    },
    {
      "cell_type": "code",
      "source": [
        "concepts_0 = list(np.unique(flatten(max_planck['concepts'].apply(max_planck_level_0).to_list())))\n",
        "concepts_1 = list(np.unique(flatten(max_planck['concepts'].apply(max_planck_level_1).to_list())))\n",
        "concepts_2 = list(np.unique(flatten(max_planck['concepts'].apply(max_planck_level_2).to_list())))"
      ],
      "metadata": {
        "id": "kdFsoZ3LuEr-"
      },
      "execution_count": 17,
      "outputs": []
    },
    {
      "cell_type": "code",
      "source": [
        "#concepts_0, concepts_1, concepts_2 "
      ],
      "metadata": {
        "id": "W0b__WorxZgv"
      },
      "execution_count": 18,
      "outputs": []
    },
    {
      "cell_type": "code",
      "source": [
        "#max_planck['authorships'].apply(lambda authorships: [author.get('raw_affiliation_string') for author in authorships])"
      ],
      "metadata": {
        "id": "izQIWvTCAka0"
      },
      "execution_count": 19,
      "outputs": []
    },
    {
      "cell_type": "code",
      "source": [
        "#[d.get('display_name') for d in max_planck.iloc[0].get('concepts') if 0 == d.get('level')]\n",
        "\n",
        "#[d.get('display_name') == \"Physics\" or d.get('display_name') == \"Biology\" for d in objeto.iloc[0]['concepts'] if 0 == d.get('level')]\n",
        "\n",
        "#objeto[objeto['concepts'].apply(lambda l: {concept}.intersection( \n",
        "#    [d.get('display_name') for d in l if d.get('level')==level])).apply(len)>0]\n",
        "\n",
        "#concept='Physics'\n",
        "#level=0\n",
        "#possible_physics=objeto[objeto['concepts'].apply(lambda l: {concept}.intersection( \n",
        "#    [d.get('display_name') for d in l if d.get('level')==level])).apply(len)>0]\n",
        "\n",
        "#concept='Biology'\n",
        "#level=0\n",
        "#possible_biology=objeto[objeto['concepts'].apply(lambda l: {concept}.intersection( \n",
        "#    [d.get('display_name') for d in l if d.get('level')==level])).apply(len)>0]\n",
        "\n",
        "#['physics' in str(d.get('dispĺay_name')) or 'biology' in str(d.get('dispĺay_name'))  for d in objeto.iloc[0]['concepts']]\n",
        "\n",
        "#def filter_level_0(concepts):\n",
        "#    return any([d.get('display_name') == \"Physics\" or d.get('display_name') == \"Biology\" for d in concepts if 0 == d.get('level')])\n",
        "\n",
        "#any([any([concept in str(d.get('dispĺay_name')) for concept in concepts_0])  for d in objeto.iloc[0]['concepts']])\n",
        "\n",
        "#any([any([concept.lower() in d.get('display_name').lower() for concept in concepts_0 if 0 == d.get('level')]) for d in objeto.iloc[1]['concepts']])\n",
        "\n",
        "#[d.get('raw_affiliation_string') for d in level_1_df['authorships'].iloc[0]]"
      ],
      "metadata": {
        "id": "ihFccRoydGNP"
      },
      "execution_count": 20,
      "outputs": []
    },
    {
      "cell_type": "code",
      "source": [
        "cp=pd.read_excel('https://docs.google.com/spreadsheets/d/e/2PACX-1vT9JrvUwanM-z-hCZ1SSaxRx2wfzLV3RVvm5BJaf8TABBmpIwKt7iYt1sVLbImVevh9YNaZK9Y7sfI9/pub?output=xlsx')"
      ],
      "metadata": {
        "id": "aaTgYfjsXOBp"
      },
      "execution_count": 21,
      "outputs": []
    },
    {
      "cell_type": "code",
      "source": [
        "cp[cp['level']==1][cp['parent_display_names'].astype(str).str.contains('Physics')].shape"
      ],
      "metadata": {
        "id": "2VG6QzNtIgxU",
        "outputId": "8c6ad09b-4e2f-4d71-db58-1d25a5790b24",
        "colab": {
          "base_uri": "https://localhost:8080/"
        }
      },
      "execution_count": 22,
      "outputs": [
        {
          "output_type": "stream",
          "name": "stderr",
          "text": [
            "/usr/local/lib/python3.7/dist-packages/ipykernel_launcher.py:1: UserWarning: Boolean Series key will be reindexed to match DataFrame index.\n",
            "  \"\"\"Entry point for launching an IPython kernel.\n"
          ]
        },
        {
          "output_type": "execute_result",
          "data": {
            "text/plain": [
              "(27, 7)"
            ]
          },
          "metadata": {},
          "execution_count": 22
        }
      ]
    },
    {
      "cell_type": "code",
      "source": [
        "ph1=cp[ (cp['level']==1) & (cp['parent_display_names'].astype(str).str.contains('Physics')) \n",
        "      ]['display_name'].to_list()\n",
        "\n",
        "ph2=cp[(cp['level']==2) & (cp['parent_display_names'].astype(str).str.split(', ').apply(\n",
        "    lambda l: set(l).intersection(set(ph1))).apply(len)>0)]['display_name'].to_list()"
      ],
      "metadata": {
        "id": "ii63f9eOYEkW"
      },
      "execution_count": 23,
      "outputs": []
    },
    {
      "cell_type": "code",
      "source": [
        "concepts_0 = ['physics', 'biology']"
      ],
      "metadata": {
        "id": "3gZt9XgCSyvW"
      },
      "execution_count": 24,
      "outputs": []
    },
    {
      "cell_type": "code",
      "source": [
        "concept_1 = list(set(ph1).intersection(concepts_1))"
      ],
      "metadata": {
        "id": "BTk3iDClRGff"
      },
      "execution_count": 25,
      "outputs": []
    },
    {
      "cell_type": "code",
      "source": [
        "concept_2 = list(set(ph2).intersection(concepts_2))"
      ],
      "metadata": {
        "id": "ZHz218-6NJWT"
      },
      "execution_count": 26,
      "outputs": []
    },
    {
      "cell_type": "code",
      "source": [
        "def filter_level_0(concepts):\n",
        "    return any([any([concept.lower() in d.get('display_name').lower() for concept in concepts_0 if 0 == d.get('level')]) for d in concepts])"
      ],
      "metadata": {
        "id": "vhAv_drARCCO"
      },
      "execution_count": 27,
      "outputs": []
    },
    {
      "cell_type": "code",
      "source": [
        "def filter_level_2(concepts):\n",
        "    return any([any([concept.lower() in d.get('display_name').lower() for concept in concepts_2 if 2 == d.get('level')]) for d in concepts])"
      ],
      "metadata": {
        "id": "uf7r25fERFWH"
      },
      "execution_count": 28,
      "outputs": []
    },
    {
      "cell_type": "code",
      "source": [
        "def filter_level_1(concepts):\n",
        "    return any([any([concept.lower() in d.get('display_name').lower() for concept in concepts_1 if 1 == d.get('level')]) for d in concepts])"
      ],
      "metadata": {
        "id": "xuYqx3txR5nh"
      },
      "execution_count": 29,
      "outputs": []
    },
    {
      "cell_type": "code",
      "source": [
        "level_0_df = objeto.copy()\n",
        "level_0_df = level_0_df[level_0_df['concepts'].apply(filter_level_0)]"
      ],
      "metadata": {
        "id": "a5ibsAE3NjiY"
      },
      "execution_count": 30,
      "outputs": []
    },
    {
      "cell_type": "code",
      "source": [
        "level_0_df.shape"
      ],
      "metadata": {
        "id": "aIrfm6yD7SoP",
        "outputId": "88a8a727-0155-412f-bb81-71d434a7a2e1",
        "colab": {
          "base_uri": "https://localhost:8080/"
        }
      },
      "execution_count": 31,
      "outputs": [
        {
          "output_type": "execute_result",
          "data": {
            "text/plain": [
              "(5996, 25)"
            ]
          },
          "metadata": {},
          "execution_count": 31
        }
      ]
    },
    {
      "cell_type": "code",
      "source": [
        "level_2_df = level_0_df.copy()\n",
        "level_2_df = level_2_df[level_2_df['concepts'].apply(filter_level_2)]"
      ],
      "metadata": {
        "id": "NhRqqC5DvZTm"
      },
      "execution_count": 32,
      "outputs": []
    },
    {
      "cell_type": "code",
      "source": [
        "level_2_df.shape"
      ],
      "metadata": {
        "id": "dsOBWoyUBh2a",
        "colab": {
          "base_uri": "https://localhost:8080/"
        },
        "outputId": "0b1e1148-4d9b-4a62-d766-6bee12ae5950"
      },
      "execution_count": 33,
      "outputs": [
        {
          "output_type": "execute_result",
          "data": {
            "text/plain": [
              "(436, 25)"
            ]
          },
          "metadata": {},
          "execution_count": 33
        }
      ]
    },
    {
      "cell_type": "code",
      "source": [
        "level_1_df = level_2_df.copy()\n",
        "level_1_df = level_1_df[level_1_df['concepts'].apply(filter_level_1)]"
      ],
      "metadata": {
        "id": "W3_RBdm1RYU8"
      },
      "execution_count": 34,
      "outputs": []
    },
    {
      "cell_type": "code",
      "source": [
        "level_1_df.shape"
      ],
      "metadata": {
        "id": "zQGqy2T2RTe-",
        "outputId": "fbc4978f-59bc-4975-d636-a9f09e849a86",
        "colab": {
          "base_uri": "https://localhost:8080/"
        }
      },
      "execution_count": 35,
      "outputs": [
        {
          "output_type": "execute_result",
          "data": {
            "text/plain": [
              "(229, 25)"
            ]
          },
          "metadata": {},
          "execution_count": 35
        }
      ]
    },
    {
      "cell_type": "code",
      "source": [
        "# Use biophysics and biochemistry"
      ],
      "metadata": {
        "id": "qCHl3HHEWmEc"
      },
      "execution_count": 59,
      "outputs": []
    },
    {
      "cell_type": "code",
      "source": [
        "affiliations = level_1_df['authorships'].apply(lambda authorships: [d.get('raw_affiliation_string') for d in authorships]).to_list()"
      ],
      "metadata": {
        "id": "NJZgBhK0SDBH"
      },
      "execution_count": 55,
      "outputs": []
    },
    {
      "cell_type": "code",
      "source": [
        "mask = [any(['biophysics' in str(group).lower() for group in affiliation]) for affiliation in affiliations]"
      ],
      "metadata": {
        "id": "Vyn-fgvySHqZ"
      },
      "execution_count": 61,
      "outputs": []
    },
    {
      "cell_type": "code",
      "source": [
        "level_1_df[mask]"
      ],
      "metadata": {
        "id": "GNQ8k5PVVqBO",
        "outputId": "70afd965-d2c8-4baa-c3f8-5c23f2cc9029",
        "colab": {
          "base_uri": "https://localhost:8080/",
          "height": 1000
        }
      },
      "execution_count": 63,
      "outputs": [
        {
          "output_type": "execute_result",
          "data": {
            "text/plain": [
              "                                      id  \\\n",
              "2363    https://openalex.org/W4281484760   \n",
              "7920    https://openalex.org/W3206772854   \n",
              "19305   https://openalex.org/W3173626897   \n",
              "21149   https://openalex.org/W3172919866   \n",
              "28309   https://openalex.org/W3097642818   \n",
              "29421   https://openalex.org/W3119110197   \n",
              "41146   https://openalex.org/W3049139549   \n",
              "52307   https://openalex.org/W3004445913   \n",
              "57856   https://openalex.org/W3122726354   \n",
              "175663  https://openalex.org/W2081648323   \n",
              "\n",
              "                                                      doi  \\\n",
              "2363            https://doi.org/10.3390/pathogens11060616   \n",
              "7920    https://doi.org/10.1016/j.actatropica.2021.106182   \n",
              "19305          https://doi.org/10.1038/s41598-021-92621-1   \n",
              "21149        https://doi.org/10.1016/j.ijpddr.2021.05.004   \n",
              "28309        https://doi.org/10.1016/j.bbamem.2020.183498   \n",
              "29421           https://doi.org/10.3389/fphar.2020.563858   \n",
              "41146        https://doi.org/10.1371/journal.pcbi.1007898   \n",
              "52307          https://doi.org/10.1016/j.bpj.2019.11.2068   \n",
              "57856    https://doi.org/10.20944/preprints201912.0112.v1   \n",
              "175663       https://doi.org/10.1016/j.bbamem.2014.07.005   \n",
              "\n",
              "                                                    title  \\\n",
              "2363    In Silico, In Vitro, and Pharmacokinetic Studi...   \n",
              "7920    Prediction of potential cysteine synthase inhi...   \n",
              "19305   A Bayesian approach to extracting free-energy ...   \n",
              "21149   In vitro evaluation of new 4-thiazolidinones o...   \n",
              "28309   Interaction of the antimicrobial peptide ∆M3 w...   \n",
              "29421   A Novel Insecticidal Spider Peptide that Affec...   \n",
              "41146   In silico discovery and biological validation ...   \n",
              "52307   Computational Design of Peptides Bound to the ...   \n",
              "57856   Fucoidan Inhibition of Osteosarcoma Cells is S...   \n",
              "175663  Galleria mellonella native and analogue peptid...   \n",
              "\n",
              "                                             display_name  publication_year  \\\n",
              "2363    In Silico, In Vitro, and Pharmacokinetic Studi...              2022   \n",
              "7920    Prediction of potential cysteine synthase inhi...              2022   \n",
              "19305   A Bayesian approach to extracting free-energy ...              2021   \n",
              "21149   In vitro evaluation of new 4-thiazolidinones o...              2021   \n",
              "28309   Interaction of the antimicrobial peptide ∆M3 w...              2021   \n",
              "29421   A Novel Insecticidal Spider Peptide that Affec...              2021   \n",
              "41146   In silico discovery and biological validation ...              2020   \n",
              "52307   Computational Design of Peptides Bound to the ...              2020   \n",
              "57856   Fucoidan Inhibition of Osteosarcoma Cells is S...              2019   \n",
              "175663  Galleria mellonella native and analogue peptid...              2014   \n",
              "\n",
              "       publication_date                                                ids  \\\n",
              "2363         2022-05-24  {'openalex': 'https://openalex.org/W4281484760...   \n",
              "7920         2022-01-01  {'openalex': 'https://openalex.org/W3206772854...   \n",
              "19305        2021-07-01  {'openalex': 'https://openalex.org/W3173626897...   \n",
              "21149        2021-06-02  {'openalex': 'https://openalex.org/W3172919866...   \n",
              "28309        2021-02-01  {'openalex': 'https://openalex.org/W3097642818...   \n",
              "29421        2021-01-13  {'openalex': 'https://openalex.org/W3119110197...   \n",
              "41146        2020-08-14  {'openalex': 'https://openalex.org/W3049139549...   \n",
              "52307        2020-02-07  {'openalex': 'https://openalex.org/W3004445913...   \n",
              "57856        2019-12-09  {'openalex': 'https://openalex.org/W3122726354...   \n",
              "175663       2014-10-01  {'openalex': 'https://openalex.org/W2081648323...   \n",
              "\n",
              "                                               host_venue             type  \\\n",
              "2363    {'id': 'https://openalex.org/V4210239906', 'is...  journal-article   \n",
              "7920    {'id': 'https://openalex.org/V190456265', 'iss...  journal-article   \n",
              "19305   {'id': 'https://openalex.org/V196734849', 'iss...  journal-article   \n",
              "21149   {'id': 'https://openalex.org/V2502194167', 'is...  journal-article   \n",
              "28309   {'id': 'https://openalex.org/V4210187475', 'is...  journal-article   \n",
              "29421   {'id': 'https://openalex.org/V132108250', 'iss...  journal-article   \n",
              "41146   {'id': 'https://openalex.org/V86033158', 'issn...  journal-article   \n",
              "52307   {'id': 'https://openalex.org/V98085912', 'issn...  journal-article   \n",
              "57856   {'id': None, 'issn_l': None, 'issn': None, 'di...   posted-content   \n",
              "175663  {'id': 'https://openalex.org/V41066938', 'issn...  journal-article   \n",
              "\n",
              "                                              open_access  ...  \\\n",
              "2363    {'is_oa': True, 'oa_status': 'gold', 'oa_url':...  ...   \n",
              "7920    {'is_oa': False, 'oa_status': 'closed', 'oa_ur...  ...   \n",
              "19305   {'is_oa': True, 'oa_status': 'gold', 'oa_url':...  ...   \n",
              "21149   {'is_oa': True, 'oa_status': 'gold', 'oa_url':...  ...   \n",
              "28309   {'is_oa': True, 'oa_status': 'bronze', 'oa_url...  ...   \n",
              "29421   {'is_oa': True, 'oa_status': 'gold', 'oa_url':...  ...   \n",
              "41146   {'is_oa': True, 'oa_status': 'gold', 'oa_url':...  ...   \n",
              "52307   {'is_oa': True, 'oa_status': 'bronze', 'oa_url...  ...   \n",
              "57856   {'is_oa': True, 'oa_status': 'green', 'oa_url'...  ...   \n",
              "175663  {'is_oa': True, 'oa_status': 'bronze', 'oa_url...  ...   \n",
              "\n",
              "                                                 concepts  \\\n",
              "2363    [{'id': 'https://openalex.org/C2777625466', 'w...   \n",
              "7920    [{'id': 'https://openalex.org/C2777735729', 'w...   \n",
              "19305   [{'id': 'https://openalex.org/C20702342', 'wik...   \n",
              "21149   [{'id': 'https://openalex.org/C2778128430', 'w...   \n",
              "28309   [{'id': 'https://openalex.org/C2779489039', 'w...   \n",
              "29421   [{'id': 'https://openalex.org/C15358309', 'wik...   \n",
              "41146   [{'id': 'https://openalex.org/C2775905019', 'w...   \n",
              "52307   [{'id': 'https://openalex.org/C207936829', 'wi...   \n",
              "57856   [{'id': 'https://openalex.org/C2775909754', 'w...   \n",
              "175663  [{'id': 'https://openalex.org/C540938839', 'wi...   \n",
              "\n",
              "                                                     mesh  \\\n",
              "2363                                                   []   \n",
              "7920                                                   []   \n",
              "19305                                                  []   \n",
              "21149                                                  []   \n",
              "28309                                                  []   \n",
              "29421                                                  []   \n",
              "41146                                                  []   \n",
              "52307                                                  []   \n",
              "57856                                                  []   \n",
              "175663  [{'descriptor_ui': 'D000900', 'descriptor_name...   \n",
              "\n",
              "                                    alternate_host_venues  \\\n",
              "2363    [{'id': 'https://openalex.org/V4210239906', 'd...   \n",
              "7920                                                   []   \n",
              "19305   [{'id': 'https://openalex.org/V196734849', 'di...   \n",
              "21149   [{'id': 'https://openalex.org/V2502194167', 'd...   \n",
              "28309   [{'id': 'https://openalex.org/V4210187475', 'd...   \n",
              "29421   [{'id': 'https://openalex.org/V132108250', 'di...   \n",
              "41146   [{'id': 'https://openalex.org/V86033158', 'dis...   \n",
              "52307   [{'id': 'https://openalex.org/V98085912', 'dis...   \n",
              "57856   [{'id': None, 'display_name': None, 'type': 'j...   \n",
              "175663  [{'id': 'https://openalex.org/V41066938', 'dis...   \n",
              "\n",
              "                                         referenced_works  \\\n",
              "2363    [https://openalex.org/W1972348350, https://ope...   \n",
              "7920    [https://openalex.org/W213139077, https://open...   \n",
              "19305   [https://openalex.org/W575681570, https://open...   \n",
              "21149   [https://openalex.org/W1196513267, https://ope...   \n",
              "28309   [https://openalex.org/W1482180296, https://ope...   \n",
              "29421   [https://openalex.org/W1557004700, https://ope...   \n",
              "41146   [https://openalex.org/W1031578623, https://ope...   \n",
              "52307                                                  []   \n",
              "57856                                                  []   \n",
              "175663  [https://openalex.org/W12653918, https://opena...   \n",
              "\n",
              "                                            related_works  \\\n",
              "2363    [https://openalex.org/W1193554, https://openal...   \n",
              "7920    [https://openalex.org/W10562162, https://opena...   \n",
              "19305   [https://openalex.org/W1817950, https://openal...   \n",
              "21149   [https://openalex.org/W1646808, https://openal...   \n",
              "28309   [https://openalex.org/W1014314, https://openal...   \n",
              "29421   [https://openalex.org/W295705, https://openale...   \n",
              "41146   [https://openalex.org/W790358, https://openale...   \n",
              "52307   [https://openalex.org/W1257746, https://openal...   \n",
              "57856   [https://openalex.org/W794095, https://openale...   \n",
              "175663  [https://openalex.org/W31674201, https://opena...   \n",
              "\n",
              "                                         cited_by_api_url  \\\n",
              "2363    https://api.openalex.org/works?filter=cites:W4...   \n",
              "7920    https://api.openalex.org/works?filter=cites:W3...   \n",
              "19305   https://api.openalex.org/works?filter=cites:W3...   \n",
              "21149   https://api.openalex.org/works?filter=cites:W3...   \n",
              "28309   https://api.openalex.org/works?filter=cites:W3...   \n",
              "29421   https://api.openalex.org/works?filter=cites:W3...   \n",
              "41146   https://api.openalex.org/works?filter=cites:W3...   \n",
              "52307   https://api.openalex.org/works?filter=cites:W3...   \n",
              "57856   https://api.openalex.org/works?filter=cites:W3...   \n",
              "175663  https://api.openalex.org/works?filter=cites:W2...   \n",
              "\n",
              "                                           counts_by_year  \\\n",
              "2363                                                   []   \n",
              "7920                                                   []   \n",
              "19305   [{'year': 2022, 'cited_by_count': 7}, {'year':...   \n",
              "21149   [{'year': 2022, 'cited_by_count': 1}, {'year':...   \n",
              "28309               [{'year': 2021, 'cited_by_count': 1}]   \n",
              "29421   [{'year': 2022, 'cited_by_count': 3}, {'year':...   \n",
              "41146   [{'year': 2022, 'cited_by_count': 1}, {'year':...   \n",
              "52307                                                  []   \n",
              "57856                                                  []   \n",
              "175663  [{'year': 2021, 'cited_by_count': 2}, {'year':...   \n",
              "\n",
              "                      updated_date created_date abstract_inverted_index  \n",
              "2363    2022-07-20T06:03:42.785006   2022-05-26                     NaN  \n",
              "7920    2022-07-25T04:35:42.555245   2021-10-25                     NaN  \n",
              "19305   2022-07-25T12:23:11.324048   2021-07-05                     NaN  \n",
              "21149   2022-07-23T04:36:22.543821   2021-06-22                     NaN  \n",
              "28309   2022-07-29T03:58:39.748084   2020-11-09                     NaN  \n",
              "29421   2022-08-05T01:24:15.811784   2021-01-18                     NaN  \n",
              "41146   2022-07-30T01:23:16.799149   2020-08-21                     NaN  \n",
              "52307   2022-08-01T02:07:54.504566   2020-02-14                    None  \n",
              "57856   2022-08-02T14:44:22.034011   2021-02-01                     NaN  \n",
              "175663  2022-08-04T08:20:39.580735   2016-06-24                     NaN  \n",
              "\n",
              "[10 rows x 25 columns]"
            ],
            "text/html": [
              "\n",
              "  <div id=\"df-299410b2-5e11-42d8-82db-9ada74d96f16\">\n",
              "    <div class=\"colab-df-container\">\n",
              "      <div>\n",
              "<style scoped>\n",
              "    .dataframe tbody tr th:only-of-type {\n",
              "        vertical-align: middle;\n",
              "    }\n",
              "\n",
              "    .dataframe tbody tr th {\n",
              "        vertical-align: top;\n",
              "    }\n",
              "\n",
              "    .dataframe thead th {\n",
              "        text-align: right;\n",
              "    }\n",
              "</style>\n",
              "<table border=\"1\" class=\"dataframe\">\n",
              "  <thead>\n",
              "    <tr style=\"text-align: right;\">\n",
              "      <th></th>\n",
              "      <th>id</th>\n",
              "      <th>doi</th>\n",
              "      <th>title</th>\n",
              "      <th>display_name</th>\n",
              "      <th>publication_year</th>\n",
              "      <th>publication_date</th>\n",
              "      <th>ids</th>\n",
              "      <th>host_venue</th>\n",
              "      <th>type</th>\n",
              "      <th>open_access</th>\n",
              "      <th>...</th>\n",
              "      <th>concepts</th>\n",
              "      <th>mesh</th>\n",
              "      <th>alternate_host_venues</th>\n",
              "      <th>referenced_works</th>\n",
              "      <th>related_works</th>\n",
              "      <th>cited_by_api_url</th>\n",
              "      <th>counts_by_year</th>\n",
              "      <th>updated_date</th>\n",
              "      <th>created_date</th>\n",
              "      <th>abstract_inverted_index</th>\n",
              "    </tr>\n",
              "  </thead>\n",
              "  <tbody>\n",
              "    <tr>\n",
              "      <th>2363</th>\n",
              "      <td>https://openalex.org/W4281484760</td>\n",
              "      <td>https://doi.org/10.3390/pathogens11060616</td>\n",
              "      <td>In Silico, In Vitro, and Pharmacokinetic Studi...</td>\n",
              "      <td>In Silico, In Vitro, and Pharmacokinetic Studi...</td>\n",
              "      <td>2022</td>\n",
              "      <td>2022-05-24</td>\n",
              "      <td>{'openalex': 'https://openalex.org/W4281484760...</td>\n",
              "      <td>{'id': 'https://openalex.org/V4210239906', 'is...</td>\n",
              "      <td>journal-article</td>\n",
              "      <td>{'is_oa': True, 'oa_status': 'gold', 'oa_url':...</td>\n",
              "      <td>...</td>\n",
              "      <td>[{'id': 'https://openalex.org/C2777625466', 'w...</td>\n",
              "      <td>[]</td>\n",
              "      <td>[{'id': 'https://openalex.org/V4210239906', 'd...</td>\n",
              "      <td>[https://openalex.org/W1972348350, https://ope...</td>\n",
              "      <td>[https://openalex.org/W1193554, https://openal...</td>\n",
              "      <td>https://api.openalex.org/works?filter=cites:W4...</td>\n",
              "      <td>[]</td>\n",
              "      <td>2022-07-20T06:03:42.785006</td>\n",
              "      <td>2022-05-26</td>\n",
              "      <td>NaN</td>\n",
              "    </tr>\n",
              "    <tr>\n",
              "      <th>7920</th>\n",
              "      <td>https://openalex.org/W3206772854</td>\n",
              "      <td>https://doi.org/10.1016/j.actatropica.2021.106182</td>\n",
              "      <td>Prediction of potential cysteine synthase inhi...</td>\n",
              "      <td>Prediction of potential cysteine synthase inhi...</td>\n",
              "      <td>2022</td>\n",
              "      <td>2022-01-01</td>\n",
              "      <td>{'openalex': 'https://openalex.org/W3206772854...</td>\n",
              "      <td>{'id': 'https://openalex.org/V190456265', 'iss...</td>\n",
              "      <td>journal-article</td>\n",
              "      <td>{'is_oa': False, 'oa_status': 'closed', 'oa_ur...</td>\n",
              "      <td>...</td>\n",
              "      <td>[{'id': 'https://openalex.org/C2777735729', 'w...</td>\n",
              "      <td>[]</td>\n",
              "      <td>[]</td>\n",
              "      <td>[https://openalex.org/W213139077, https://open...</td>\n",
              "      <td>[https://openalex.org/W10562162, https://opena...</td>\n",
              "      <td>https://api.openalex.org/works?filter=cites:W3...</td>\n",
              "      <td>[]</td>\n",
              "      <td>2022-07-25T04:35:42.555245</td>\n",
              "      <td>2021-10-25</td>\n",
              "      <td>NaN</td>\n",
              "    </tr>\n",
              "    <tr>\n",
              "      <th>19305</th>\n",
              "      <td>https://openalex.org/W3173626897</td>\n",
              "      <td>https://doi.org/10.1038/s41598-021-92621-1</td>\n",
              "      <td>A Bayesian approach to extracting free-energy ...</td>\n",
              "      <td>A Bayesian approach to extracting free-energy ...</td>\n",
              "      <td>2021</td>\n",
              "      <td>2021-07-01</td>\n",
              "      <td>{'openalex': 'https://openalex.org/W3173626897...</td>\n",
              "      <td>{'id': 'https://openalex.org/V196734849', 'iss...</td>\n",
              "      <td>journal-article</td>\n",
              "      <td>{'is_oa': True, 'oa_status': 'gold', 'oa_url':...</td>\n",
              "      <td>...</td>\n",
              "      <td>[{'id': 'https://openalex.org/C20702342', 'wik...</td>\n",
              "      <td>[]</td>\n",
              "      <td>[{'id': 'https://openalex.org/V196734849', 'di...</td>\n",
              "      <td>[https://openalex.org/W575681570, https://open...</td>\n",
              "      <td>[https://openalex.org/W1817950, https://openal...</td>\n",
              "      <td>https://api.openalex.org/works?filter=cites:W3...</td>\n",
              "      <td>[{'year': 2022, 'cited_by_count': 7}, {'year':...</td>\n",
              "      <td>2022-07-25T12:23:11.324048</td>\n",
              "      <td>2021-07-05</td>\n",
              "      <td>NaN</td>\n",
              "    </tr>\n",
              "    <tr>\n",
              "      <th>21149</th>\n",
              "      <td>https://openalex.org/W3172919866</td>\n",
              "      <td>https://doi.org/10.1016/j.ijpddr.2021.05.004</td>\n",
              "      <td>In vitro evaluation of new 4-thiazolidinones o...</td>\n",
              "      <td>In vitro evaluation of new 4-thiazolidinones o...</td>\n",
              "      <td>2021</td>\n",
              "      <td>2021-06-02</td>\n",
              "      <td>{'openalex': 'https://openalex.org/W3172919866...</td>\n",
              "      <td>{'id': 'https://openalex.org/V2502194167', 'is...</td>\n",
              "      <td>journal-article</td>\n",
              "      <td>{'is_oa': True, 'oa_status': 'gold', 'oa_url':...</td>\n",
              "      <td>...</td>\n",
              "      <td>[{'id': 'https://openalex.org/C2778128430', 'w...</td>\n",
              "      <td>[]</td>\n",
              "      <td>[{'id': 'https://openalex.org/V2502194167', 'd...</td>\n",
              "      <td>[https://openalex.org/W1196513267, https://ope...</td>\n",
              "      <td>[https://openalex.org/W1646808, https://openal...</td>\n",
              "      <td>https://api.openalex.org/works?filter=cites:W3...</td>\n",
              "      <td>[{'year': 2022, 'cited_by_count': 1}, {'year':...</td>\n",
              "      <td>2022-07-23T04:36:22.543821</td>\n",
              "      <td>2021-06-22</td>\n",
              "      <td>NaN</td>\n",
              "    </tr>\n",
              "    <tr>\n",
              "      <th>28309</th>\n",
              "      <td>https://openalex.org/W3097642818</td>\n",
              "      <td>https://doi.org/10.1016/j.bbamem.2020.183498</td>\n",
              "      <td>Interaction of the antimicrobial peptide ∆M3 w...</td>\n",
              "      <td>Interaction of the antimicrobial peptide ∆M3 w...</td>\n",
              "      <td>2021</td>\n",
              "      <td>2021-02-01</td>\n",
              "      <td>{'openalex': 'https://openalex.org/W3097642818...</td>\n",
              "      <td>{'id': 'https://openalex.org/V4210187475', 'is...</td>\n",
              "      <td>journal-article</td>\n",
              "      <td>{'is_oa': True, 'oa_status': 'bronze', 'oa_url...</td>\n",
              "      <td>...</td>\n",
              "      <td>[{'id': 'https://openalex.org/C2779489039', 'w...</td>\n",
              "      <td>[]</td>\n",
              "      <td>[{'id': 'https://openalex.org/V4210187475', 'd...</td>\n",
              "      <td>[https://openalex.org/W1482180296, https://ope...</td>\n",
              "      <td>[https://openalex.org/W1014314, https://openal...</td>\n",
              "      <td>https://api.openalex.org/works?filter=cites:W3...</td>\n",
              "      <td>[{'year': 2021, 'cited_by_count': 1}]</td>\n",
              "      <td>2022-07-29T03:58:39.748084</td>\n",
              "      <td>2020-11-09</td>\n",
              "      <td>NaN</td>\n",
              "    </tr>\n",
              "    <tr>\n",
              "      <th>29421</th>\n",
              "      <td>https://openalex.org/W3119110197</td>\n",
              "      <td>https://doi.org/10.3389/fphar.2020.563858</td>\n",
              "      <td>A Novel Insecticidal Spider Peptide that Affec...</td>\n",
              "      <td>A Novel Insecticidal Spider Peptide that Affec...</td>\n",
              "      <td>2021</td>\n",
              "      <td>2021-01-13</td>\n",
              "      <td>{'openalex': 'https://openalex.org/W3119110197...</td>\n",
              "      <td>{'id': 'https://openalex.org/V132108250', 'iss...</td>\n",
              "      <td>journal-article</td>\n",
              "      <td>{'is_oa': True, 'oa_status': 'gold', 'oa_url':...</td>\n",
              "      <td>...</td>\n",
              "      <td>[{'id': 'https://openalex.org/C15358309', 'wik...</td>\n",
              "      <td>[]</td>\n",
              "      <td>[{'id': 'https://openalex.org/V132108250', 'di...</td>\n",
              "      <td>[https://openalex.org/W1557004700, https://ope...</td>\n",
              "      <td>[https://openalex.org/W295705, https://openale...</td>\n",
              "      <td>https://api.openalex.org/works?filter=cites:W3...</td>\n",
              "      <td>[{'year': 2022, 'cited_by_count': 3}, {'year':...</td>\n",
              "      <td>2022-08-05T01:24:15.811784</td>\n",
              "      <td>2021-01-18</td>\n",
              "      <td>NaN</td>\n",
              "    </tr>\n",
              "    <tr>\n",
              "      <th>41146</th>\n",
              "      <td>https://openalex.org/W3049139549</td>\n",
              "      <td>https://doi.org/10.1371/journal.pcbi.1007898</td>\n",
              "      <td>In silico discovery and biological validation ...</td>\n",
              "      <td>In silico discovery and biological validation ...</td>\n",
              "      <td>2020</td>\n",
              "      <td>2020-08-14</td>\n",
              "      <td>{'openalex': 'https://openalex.org/W3049139549...</td>\n",
              "      <td>{'id': 'https://openalex.org/V86033158', 'issn...</td>\n",
              "      <td>journal-article</td>\n",
              "      <td>{'is_oa': True, 'oa_status': 'gold', 'oa_url':...</td>\n",
              "      <td>...</td>\n",
              "      <td>[{'id': 'https://openalex.org/C2775905019', 'w...</td>\n",
              "      <td>[]</td>\n",
              "      <td>[{'id': 'https://openalex.org/V86033158', 'dis...</td>\n",
              "      <td>[https://openalex.org/W1031578623, https://ope...</td>\n",
              "      <td>[https://openalex.org/W790358, https://openale...</td>\n",
              "      <td>https://api.openalex.org/works?filter=cites:W3...</td>\n",
              "      <td>[{'year': 2022, 'cited_by_count': 1}, {'year':...</td>\n",
              "      <td>2022-07-30T01:23:16.799149</td>\n",
              "      <td>2020-08-21</td>\n",
              "      <td>NaN</td>\n",
              "    </tr>\n",
              "    <tr>\n",
              "      <th>52307</th>\n",
              "      <td>https://openalex.org/W3004445913</td>\n",
              "      <td>https://doi.org/10.1016/j.bpj.2019.11.2068</td>\n",
              "      <td>Computational Design of Peptides Bound to the ...</td>\n",
              "      <td>Computational Design of Peptides Bound to the ...</td>\n",
              "      <td>2020</td>\n",
              "      <td>2020-02-07</td>\n",
              "      <td>{'openalex': 'https://openalex.org/W3004445913...</td>\n",
              "      <td>{'id': 'https://openalex.org/V98085912', 'issn...</td>\n",
              "      <td>journal-article</td>\n",
              "      <td>{'is_oa': True, 'oa_status': 'bronze', 'oa_url...</td>\n",
              "      <td>...</td>\n",
              "      <td>[{'id': 'https://openalex.org/C207936829', 'wi...</td>\n",
              "      <td>[]</td>\n",
              "      <td>[{'id': 'https://openalex.org/V98085912', 'dis...</td>\n",
              "      <td>[]</td>\n",
              "      <td>[https://openalex.org/W1257746, https://openal...</td>\n",
              "      <td>https://api.openalex.org/works?filter=cites:W3...</td>\n",
              "      <td>[]</td>\n",
              "      <td>2022-08-01T02:07:54.504566</td>\n",
              "      <td>2020-02-14</td>\n",
              "      <td>None</td>\n",
              "    </tr>\n",
              "    <tr>\n",
              "      <th>57856</th>\n",
              "      <td>https://openalex.org/W3122726354</td>\n",
              "      <td>https://doi.org/10.20944/preprints201912.0112.v1</td>\n",
              "      <td>Fucoidan Inhibition of Osteosarcoma Cells is S...</td>\n",
              "      <td>Fucoidan Inhibition of Osteosarcoma Cells is S...</td>\n",
              "      <td>2019</td>\n",
              "      <td>2019-12-09</td>\n",
              "      <td>{'openalex': 'https://openalex.org/W3122726354...</td>\n",
              "      <td>{'id': None, 'issn_l': None, 'issn': None, 'di...</td>\n",
              "      <td>posted-content</td>\n",
              "      <td>{'is_oa': True, 'oa_status': 'green', 'oa_url'...</td>\n",
              "      <td>...</td>\n",
              "      <td>[{'id': 'https://openalex.org/C2775909754', 'w...</td>\n",
              "      <td>[]</td>\n",
              "      <td>[{'id': None, 'display_name': None, 'type': 'j...</td>\n",
              "      <td>[]</td>\n",
              "      <td>[https://openalex.org/W794095, https://openale...</td>\n",
              "      <td>https://api.openalex.org/works?filter=cites:W3...</td>\n",
              "      <td>[]</td>\n",
              "      <td>2022-08-02T14:44:22.034011</td>\n",
              "      <td>2021-02-01</td>\n",
              "      <td>NaN</td>\n",
              "    </tr>\n",
              "    <tr>\n",
              "      <th>175663</th>\n",
              "      <td>https://openalex.org/W2081648323</td>\n",
              "      <td>https://doi.org/10.1016/j.bbamem.2014.07.005</td>\n",
              "      <td>Galleria mellonella native and analogue peptid...</td>\n",
              "      <td>Galleria mellonella native and analogue peptid...</td>\n",
              "      <td>2014</td>\n",
              "      <td>2014-10-01</td>\n",
              "      <td>{'openalex': 'https://openalex.org/W2081648323...</td>\n",
              "      <td>{'id': 'https://openalex.org/V41066938', 'issn...</td>\n",
              "      <td>journal-article</td>\n",
              "      <td>{'is_oa': True, 'oa_status': 'bronze', 'oa_url...</td>\n",
              "      <td>...</td>\n",
              "      <td>[{'id': 'https://openalex.org/C540938839', 'wi...</td>\n",
              "      <td>[{'descriptor_ui': 'D000900', 'descriptor_name...</td>\n",
              "      <td>[{'id': 'https://openalex.org/V41066938', 'dis...</td>\n",
              "      <td>[https://openalex.org/W12653918, https://opena...</td>\n",
              "      <td>[https://openalex.org/W31674201, https://opena...</td>\n",
              "      <td>https://api.openalex.org/works?filter=cites:W2...</td>\n",
              "      <td>[{'year': 2021, 'cited_by_count': 2}, {'year':...</td>\n",
              "      <td>2022-08-04T08:20:39.580735</td>\n",
              "      <td>2016-06-24</td>\n",
              "      <td>NaN</td>\n",
              "    </tr>\n",
              "  </tbody>\n",
              "</table>\n",
              "<p>10 rows × 25 columns</p>\n",
              "</div>\n",
              "      <button class=\"colab-df-convert\" onclick=\"convertToInteractive('df-299410b2-5e11-42d8-82db-9ada74d96f16')\"\n",
              "              title=\"Convert this dataframe to an interactive table.\"\n",
              "              style=\"display:none;\">\n",
              "        \n",
              "  <svg xmlns=\"http://www.w3.org/2000/svg\" height=\"24px\"viewBox=\"0 0 24 24\"\n",
              "       width=\"24px\">\n",
              "    <path d=\"M0 0h24v24H0V0z\" fill=\"none\"/>\n",
              "    <path d=\"M18.56 5.44l.94 2.06.94-2.06 2.06-.94-2.06-.94-.94-2.06-.94 2.06-2.06.94zm-11 1L8.5 8.5l.94-2.06 2.06-.94-2.06-.94L8.5 2.5l-.94 2.06-2.06.94zm10 10l.94 2.06.94-2.06 2.06-.94-2.06-.94-.94-2.06-.94 2.06-2.06.94z\"/><path d=\"M17.41 7.96l-1.37-1.37c-.4-.4-.92-.59-1.43-.59-.52 0-1.04.2-1.43.59L10.3 9.45l-7.72 7.72c-.78.78-.78 2.05 0 2.83L4 21.41c.39.39.9.59 1.41.59.51 0 1.02-.2 1.41-.59l7.78-7.78 2.81-2.81c.8-.78.8-2.07 0-2.86zM5.41 20L4 18.59l7.72-7.72 1.47 1.35L5.41 20z\"/>\n",
              "  </svg>\n",
              "      </button>\n",
              "      \n",
              "  <style>\n",
              "    .colab-df-container {\n",
              "      display:flex;\n",
              "      flex-wrap:wrap;\n",
              "      gap: 12px;\n",
              "    }\n",
              "\n",
              "    .colab-df-convert {\n",
              "      background-color: #E8F0FE;\n",
              "      border: none;\n",
              "      border-radius: 50%;\n",
              "      cursor: pointer;\n",
              "      display: none;\n",
              "      fill: #1967D2;\n",
              "      height: 32px;\n",
              "      padding: 0 0 0 0;\n",
              "      width: 32px;\n",
              "    }\n",
              "\n",
              "    .colab-df-convert:hover {\n",
              "      background-color: #E2EBFA;\n",
              "      box-shadow: 0px 1px 2px rgba(60, 64, 67, 0.3), 0px 1px 3px 1px rgba(60, 64, 67, 0.15);\n",
              "      fill: #174EA6;\n",
              "    }\n",
              "\n",
              "    [theme=dark] .colab-df-convert {\n",
              "      background-color: #3B4455;\n",
              "      fill: #D2E3FC;\n",
              "    }\n",
              "\n",
              "    [theme=dark] .colab-df-convert:hover {\n",
              "      background-color: #434B5C;\n",
              "      box-shadow: 0px 1px 3px 1px rgba(0, 0, 0, 0.15);\n",
              "      filter: drop-shadow(0px 1px 2px rgba(0, 0, 0, 0.3));\n",
              "      fill: #FFFFFF;\n",
              "    }\n",
              "  </style>\n",
              "\n",
              "      <script>\n",
              "        const buttonEl =\n",
              "          document.querySelector('#df-299410b2-5e11-42d8-82db-9ada74d96f16 button.colab-df-convert');\n",
              "        buttonEl.style.display =\n",
              "          google.colab.kernel.accessAllowed ? 'block' : 'none';\n",
              "\n",
              "        async function convertToInteractive(key) {\n",
              "          const element = document.querySelector('#df-299410b2-5e11-42d8-82db-9ada74d96f16');\n",
              "          const dataTable =\n",
              "            await google.colab.kernel.invokeFunction('convertToInteractive',\n",
              "                                                     [key], {});\n",
              "          if (!dataTable) return;\n",
              "\n",
              "          const docLinkHtml = 'Like what you see? Visit the ' +\n",
              "            '<a target=\"_blank\" href=https://colab.research.google.com/notebooks/data_table.ipynb>data table notebook</a>'\n",
              "            + ' to learn more about interactive tables.';\n",
              "          element.innerHTML = '';\n",
              "          dataTable['output_type'] = 'display_data';\n",
              "          await google.colab.output.renderOutput(dataTable, element);\n",
              "          const docLink = document.createElement('div');\n",
              "          docLink.innerHTML = docLinkHtml;\n",
              "          element.appendChild(docLink);\n",
              "        }\n",
              "      </script>\n",
              "    </div>\n",
              "  </div>\n",
              "  "
            ]
          },
          "metadata": {},
          "execution_count": 63
        }
      ]
    },
    {
      "cell_type": "code",
      "source": [],
      "metadata": {
        "id": "maCjn_hXVwKd"
      },
      "execution_count": null,
      "outputs": []
    }
  ],
  "metadata": {
    "kernelspec": {
      "display_name": "Python 3.9.12 ('comp_avanz')",
      "language": "python",
      "name": "python3"
    },
    "language_info": {
      "codemirror_mode": {
        "name": "ipython",
        "version": 3
      },
      "file_extension": ".py",
      "mimetype": "text/x-python",
      "name": "python",
      "nbconvert_exporter": "python",
      "pygments_lexer": "ipython3",
      "version": "3.9.12"
    },
    "orig_nbformat": 4,
    "vscode": {
      "interpreter": {
        "hash": "add0685a1965005be9be0975996da26f37d5472cceef27ccf55a2f3f6645711f"
      }
    },
    "colab": {
      "provenance": [],
      "include_colab_link": true
    }
  },
  "nbformat": 4,
  "nbformat_minor": 0
}