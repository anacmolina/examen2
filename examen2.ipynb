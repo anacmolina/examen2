{
  "cells": [
    {
      "cell_type": "markdown",
      "metadata": {
        "id": "view-in-github",
        "colab_type": "text"
      },
      "source": [
        "<a href=\"https://colab.research.google.com/github/anacmolina/examen2/blob/main/examen2.ipynb\" target=\"_parent\"><img src=\"https://colab.research.google.com/assets/colab-badge.svg\" alt=\"Open In Colab\"/></a>"
      ]
    },
    {
      "cell_type": "code",
      "source": [
        "import json\n",
        "import pandas as pd\n",
        "from google.colab import files\n",
        "#From https://gist.github.com/korakot/072f1ea70d3c3267ff2c64b61d78c89c\n",
        "import json\n",
        "from IPython.display import HTML\n",
        "\n",
        "def JSON(jstr):\n",
        "  if type(jstr) != str:\n",
        "    jstr = json.dumps(jstr)\n",
        "  return HTML(\"\"\"\n",
        "\n",
        "\n",
        "renderjson.set_show_to_level(1)\n",
        "document.body.appendChild(renderjson(%s))\n",
        "new ResizeObserver(google.colab.output.resizeIframeToContent).observe(document.body)\n",
        "\n",
        "\"\"\" % jstr)"
      ],
      "metadata": {
        "id": "kNnYBJ_cJ5Fn"
      },
      "execution_count": 1,
      "outputs": []
    },
    {
      "cell_type": "code",
      "source": [
        "import numpy as np"
      ],
      "metadata": {
        "id": "xfTV-iHXvyT-"
      },
      "execution_count": 99,
      "outputs": []
    },
    {
      "cell_type": "code",
      "source": [
        "from google.colab import drive\n",
        "drive.mount('/content/drive')"
      ],
      "metadata": {
        "id": "jPSCsl7NMORO",
        "outputId": "d9b45139-237c-4edd-ffdd-b62d73f332eb",
        "colab": {
          "base_uri": "https://localhost:8080/"
        }
      },
      "execution_count": 2,
      "outputs": [
        {
          "output_type": "stream",
          "name": "stdout",
          "text": [
            "Drive already mounted at /content/drive; to attempt to forcibly remount, call drive.mount(\"/content/drive\", force_remount=True).\n"
          ]
        }
      ]
    },
    {
      "cell_type": "code",
      "source": [
        "with open('/content/drive/MyDrive/json/openalexco.json','r') as miarchivo:\n",
        "    objeto=miarchivo.read()\n",
        "objeto=json.loads(objeto)"
      ],
      "metadata": {
        "id": "4w4vq_LFV3jP"
      },
      "execution_count": 3,
      "outputs": []
    },
    {
      "cell_type": "code",
      "source": [
        "objeto=pd.DataFrame(objeto)"
      ],
      "metadata": {
        "id": "ZC5iogNOa-Rj"
      },
      "execution_count": 4,
      "outputs": []
    },
    {
      "cell_type": "code",
      "source": [
        "def filter_ror(authorships,ror=\"https://ror.org/03bp5hc83\"):\n",
        "  return any([any([i.get('ror')==ror for i in a.get('institutions')])  for a in authorships])\n"
      ],
      "metadata": {
        "id": "wRUzRmGvV75e"
      },
      "execution_count": 5,
      "outputs": []
    },
    {
      "cell_type": "code",
      "source": [
        "objeto = objeto[objeto['authorships'].apply(filter_ror)]\n",
        "objeto.shape"
      ],
      "metadata": {
        "id": "CK2ARx31Yx2b",
        "outputId": "0e23e7fd-e738-45ff-bbc4-bc0172a39983",
        "colab": {
          "base_uri": "https://localhost:8080/"
        }
      },
      "execution_count": 6,
      "outputs": [
        {
          "output_type": "execute_result",
          "data": {
            "text/plain": [
              "(34291, 25)"
            ]
          },
          "metadata": {},
          "execution_count": 6
        }
      ]
    },
    {
      "cell_type": "code",
      "source": [
        "# By research group"
      ],
      "metadata": {
        "id": "kLWvn6gUooYd"
      },
      "execution_count": 126,
      "outputs": []
    },
    {
      "cell_type": "code",
      "source": [
        "research_gruop = (\"Biophysics of tropical diseases\").lower()"
      ],
      "metadata": {
        "id": "gLoxa0Dro1aq"
      },
      "execution_count": 127,
      "outputs": []
    },
    {
      "cell_type": "code",
      "source": [
        "def filter_by_RG(authorships, research_gruop = research_gruop):\n",
        "    return any([research_gruop in str(each_author.get('raw_affiliation_string')).lower() for each_author in authorships])"
      ],
      "metadata": {
        "id": "pDmvM5ryosLc"
      },
      "execution_count": 128,
      "outputs": []
    },
    {
      "cell_type": "code",
      "source": [
        "max_planck = objeto[objeto['authorships'].apply(filter_by_RG)]"
      ],
      "metadata": {
        "id": "bPCSotvaosHt"
      },
      "execution_count": 129,
      "outputs": []
    },
    {
      "cell_type": "code",
      "source": [
        "#max_planck"
      ],
      "metadata": {
        "id": "hK0PribWr4yl"
      },
      "execution_count": 130,
      "outputs": []
    },
    {
      "cell_type": "code",
      "source": [
        "def flatten(l):\n",
        "    return [item for sublist in l for item in sublist]"
      ],
      "metadata": {
        "id": "DgC7ZEJmwVFK"
      },
      "execution_count": 131,
      "outputs": []
    },
    {
      "cell_type": "code",
      "source": [
        "def max_planck_level_0(concepts):\n",
        "    return [d.get('display_name') for d in concepts if 0 == d.get('level')]\n",
        "\n",
        "def max_planck_level_1(concepts):\n",
        "    return [d.get('display_name') for d in concepts if 1 == d.get('level')]\n",
        "\n",
        "def max_planck_level_2(concepts):\n",
        "    return [d.get('display_name') for d in concepts if 2 == d.get('level')]"
      ],
      "metadata": {
        "id": "vnLSVTQhuM19"
      },
      "execution_count": 132,
      "outputs": []
    },
    {
      "cell_type": "code",
      "source": [
        "max_planck['concepts'].apply(max_planck_level_0)"
      ],
      "metadata": {
        "id": "-kgM5teko_RN",
        "outputId": "7965f1de-d42f-489c-f675-008a17052463",
        "colab": {
          "base_uri": "https://localhost:8080/"
        }
      },
      "execution_count": 133,
      "outputs": [
        {
          "output_type": "execute_result",
          "data": {
            "text/plain": [
              "2363                       [Biology]\n",
              "3502                       [Biology]\n",
              "7920            [Biology, Chemistry]\n",
              "19305    [Computer science, Physics]\n",
              "21149           [Biology, Chemistry]\n",
              "41146                      [Biology]\n",
              "52307           [Biology, Chemistry]\n",
              "Name: concepts, dtype: object"
            ]
          },
          "metadata": {},
          "execution_count": 133
        }
      ]
    },
    {
      "cell_type": "code",
      "source": [
        "max_planck['concepts'].apply(max_planck_level_1)"
      ],
      "metadata": {
        "id": "mvscXmzKxtj5",
        "outputId": "a357b66f-3fa5-42ef-da2d-c53d3e027aed",
        "colab": {
          "base_uri": "https://localhost:8080/"
        }
      },
      "execution_count": 134,
      "outputs": [
        {
          "output_type": "execute_result",
          "data": {
            "text/plain": [
              "2363     [Pharmacology, Cell biology, Biochemistry, Mol...\n",
              "3502                     [Computational biology, Genetics]\n",
              "7920                 [Biochemistry, Computational biology]\n",
              "19305                       [Biological system, Algorithm]\n",
              "21149          [Pharmacology, Molecular biology, Virology]\n",
              "41146              [Computational biology, Bioinformatics]\n",
              "52307                    [Computational biology, Genetics]\n",
              "Name: concepts, dtype: object"
            ]
          },
          "metadata": {},
          "execution_count": 134
        }
      ]
    },
    {
      "cell_type": "code",
      "source": [
        "max_planck['concepts'].apply(max_planck_level_2)"
      ],
      "metadata": {
        "id": "esT4nQNKxune",
        "outputId": "f08947f8-bac0-4efb-fc35-b9bc488448c4",
        "colab": {
          "base_uri": "https://localhost:8080/"
        }
      },
      "execution_count": 135,
      "outputs": [
        {
          "output_type": "execute_result",
          "data": {
            "text/plain": [
              "2363                                           [Apoptosis]\n",
              "3502                                                    []\n",
              "7920     [Docking (animal), Drug discovery, Enzyme, Lei...\n",
              "19305    [Cryo-electron microscopy, Metastability, Biom...\n",
              "21149      [In vitro, Toxoplasmosis, Fluorescence, Enzyme]\n",
              "41146                      [Drug discovery, Antimicrobial]\n",
              "52307                                 [Class (philosophy)]\n",
              "Name: concepts, dtype: object"
            ]
          },
          "metadata": {},
          "execution_count": 135
        }
      ]
    },
    {
      "cell_type": "code",
      "source": [
        "concepts_0 = list(np.unique(flatten(max_planck['concepts'].apply(max_planck_level_0).to_list())))\n",
        "concepts_1 = list(np.unique(flatten(max_planck['concepts'].apply(max_planck_level_1).to_list())))\n",
        "concepts_2 = list(np.unique(flatten(max_planck['concepts'].apply(max_planck_level_2).to_list())))"
      ],
      "metadata": {
        "id": "kdFsoZ3LuEr-"
      },
      "execution_count": 136,
      "outputs": []
    },
    {
      "cell_type": "code",
      "source": [
        "concepts_0, concepts_1, concepts_2 "
      ],
      "metadata": {
        "id": "W0b__WorxZgv",
        "outputId": "03cfe5d1-4060-4727-911f-9e0ff0e72363",
        "colab": {
          "base_uri": "https://localhost:8080/"
        }
      },
      "execution_count": 137,
      "outputs": [
        {
          "output_type": "execute_result",
          "data": {
            "text/plain": [
              "(['Biology', 'Chemistry', 'Computer science', 'Physics'],\n",
              " ['Algorithm',\n",
              "  'Biochemistry',\n",
              "  'Bioinformatics',\n",
              "  'Biological system',\n",
              "  'Cell biology',\n",
              "  'Computational biology',\n",
              "  'Genetics',\n",
              "  'Molecular biology',\n",
              "  'Pharmacology',\n",
              "  'Virology'],\n",
              " ['Antimicrobial',\n",
              "  'Apoptosis',\n",
              "  'Biomolecule',\n",
              "  'Class (philosophy)',\n",
              "  'Cryo-electron microscopy',\n",
              "  'Docking (animal)',\n",
              "  'Drug discovery',\n",
              "  'Energy (signal processing)',\n",
              "  'Energy landscape',\n",
              "  'Enzyme',\n",
              "  'Fluorescence',\n",
              "  'In vitro',\n",
              "  'Leishmaniasis',\n",
              "  'Metastability',\n",
              "  'Resolution (logic)',\n",
              "  'Toxoplasmosis'])"
            ]
          },
          "metadata": {},
          "execution_count": 137
        }
      ]
    },
    {
      "cell_type": "code",
      "source": [
        "#[d.get('display_name') for d in max_planck.iloc[0].get('concepts') if 0 == d.get('level')]\n",
        "\n",
        "#[d.get('display_name') == \"Physics\" or d.get('display_name') == \"Biology\" for d in objeto.iloc[0]['concepts'] if 0 == d.get('level')]\n",
        "\n",
        "#objeto[objeto['concepts'].apply(lambda l: {concept}.intersection( \n",
        "#    [d.get('display_name') for d in l if d.get('level')==level])).apply(len)>0]\n"
      ],
      "metadata": {
        "id": "ihFccRoydGNP"
      },
      "execution_count": 7,
      "outputs": []
    },
    {
      "cell_type": "code",
      "source": [
        "def filter_level_0(concepts):\n",
        "    return any([d.get('display_name') == \"Physics\" or d.get('display_name') == \"Biology\" for d in concepts if 0 == d.get('level')])"
      ],
      "metadata": {
        "id": "vhAv_drARCCO"
      },
      "execution_count": 8,
      "outputs": []
    },
    {
      "cell_type": "code",
      "source": [
        "physics_biology = objeto[objeto['concepts'].apply(filter_level_0)]"
      ],
      "metadata": {
        "id": "a5ibsAE3NjiY"
      },
      "execution_count": 15,
      "outputs": []
    },
    {
      "cell_type": "code",
      "source": [
        "concept='Physics'\n",
        "level=0\n",
        "possible_physics=objeto[objeto['concepts'].apply(lambda l: {concept}.intersection( \n",
        "    [d.get('display_name') for d in l if d.get('level')==level])).apply(len)>0]"
      ],
      "metadata": {
        "id": "rt2kEgoQatGQ"
      },
      "execution_count": 9,
      "outputs": []
    },
    {
      "cell_type": "code",
      "source": [
        "possible_physics.shape"
      ],
      "metadata": {
        "id": "0gdBXrC5eEQS",
        "outputId": "404cad45-82bf-44f0-e81e-3bd4f117ffcc",
        "colab": {
          "base_uri": "https://localhost:8080/"
        }
      },
      "execution_count": 10,
      "outputs": [
        {
          "output_type": "execute_result",
          "data": {
            "text/plain": [
              "(1886, 25)"
            ]
          },
          "metadata": {},
          "execution_count": 10
        }
      ]
    },
    {
      "cell_type": "code",
      "source": [
        "concept='Biology'\n",
        "level=0\n",
        "possible_biology=objeto[objeto['concepts'].apply(lambda l: {concept}.intersection( \n",
        "    [d.get('display_name') for d in l if d.get('level')==level])).apply(len)>0]"
      ],
      "metadata": {
        "id": "UiLloaY2eLLR"
      },
      "execution_count": 11,
      "outputs": []
    },
    {
      "cell_type": "code",
      "source": [
        "possible_biology.shape"
      ],
      "metadata": {
        "id": "OING7y_ReQJQ",
        "outputId": "d1507dba-8055-4b32-cd21-37af0aadbd31",
        "colab": {
          "base_uri": "https://localhost:8080/"
        }
      },
      "execution_count": 12,
      "outputs": [
        {
          "output_type": "execute_result",
          "data": {
            "text/plain": [
              "(4170, 25)"
            ]
          },
          "metadata": {},
          "execution_count": 12
        }
      ]
    },
    {
      "cell_type": "code",
      "source": [
        "['physics' in str(d.get('dispĺay_name')) or 'biology' in str(d.get('dispĺay_name'))  for d in objeto.iloc[0]['concepts']]"
      ],
      "metadata": {
        "id": "ULiUKABIEzmv",
        "outputId": "e599ed68-0836-4326-a858-bfdc82f9b043",
        "colab": {
          "base_uri": "https://localhost:8080/"
        }
      },
      "execution_count": null,
      "outputs": [
        {
          "output_type": "execute_result",
          "data": {
            "text/plain": [
              "[False, False, False, False, False, False, False, False, False, False, False]"
            ]
          },
          "metadata": {},
          "execution_count": 48
        }
      ]
    },
    {
      "cell_type": "code",
      "source": [
        "[str(d.get('dispĺay_name'))  for d in objeto.iloc[0]['concepts']]"
      ],
      "metadata": {
        "id": "QOosA7cZQ5GX",
        "outputId": "71adb1b9-853d-4d2c-ff44-a6c64b67055c",
        "colab": {
          "base_uri": "https://localhost:8080/"
        }
      },
      "execution_count": null,
      "outputs": [
        {
          "output_type": "execute_result",
          "data": {
            "text/plain": [
              "['None',\n",
              " 'None',\n",
              " 'None',\n",
              " 'None',\n",
              " 'None',\n",
              " 'None',\n",
              " 'None',\n",
              " 'None',\n",
              " 'None',\n",
              " 'None',\n",
              " 'None']"
            ]
          },
          "metadata": {},
          "execution_count": 50
        }
      ]
    },
    {
      "cell_type": "code",
      "source": [
        "research_gruop = (\"Biophysics of tropical diseases\").lower()"
      ],
      "metadata": {
        "id": "kgZEnJRKyaXy"
      },
      "execution_count": null,
      "outputs": []
    },
    {
      "cell_type": "code",
      "source": [
        "def filter_by_RG(authorships, research_gruop = research_gruop):\n",
        "    return any([research_gruop in str(each_author.get('raw_affiliation_string')).lower() for each_author in authorships])"
      ],
      "metadata": {
        "id": "hjAI2X4_w3H-"
      },
      "execution_count": null,
      "outputs": []
    },
    {
      "cell_type": "code",
      "source": [
        "max_planck = possible_physics[possible_physics['authorships'].apply(filter_by_RG)]"
      ],
      "metadata": {
        "id": "i2tP2fVj3emZ"
      },
      "execution_count": null,
      "outputs": []
    },
    {
      "cell_type": "code",
      "source": [
        "max_planck.concepts.iloc[0]"
      ],
      "metadata": {
        "id": "tExso-1t_8nq",
        "outputId": "0934640d-e94b-41cb-d930-400075d2b7ef",
        "colab": {
          "base_uri": "https://localhost:8080/"
        }
      },
      "execution_count": null,
      "outputs": [
        {
          "output_type": "execute_result",
          "data": {
            "text/plain": [
              "[{'id': 'https://openalex.org/C20702342',\n",
              "  'wikidata': 'https://www.wikidata.org/wiki/Q5190506',\n",
              "  'display_name': 'Cryo-electron microscopy',\n",
              "  'level': 2,\n",
              "  'score': '0.81700754'},\n",
              " {'id': 'https://openalex.org/C89464430',\n",
              "  'wikidata': 'https://www.wikidata.org/wiki/Q849516',\n",
              "  'display_name': 'Metastability',\n",
              "  'level': 2,\n",
              "  'score': '0.5927244'},\n",
              " {'id': 'https://openalex.org/C49853544',\n",
              "  'wikidata': 'https://www.wikidata.org/wiki/Q206229',\n",
              "  'display_name': 'Biomolecule',\n",
              "  'level': 2,\n",
              "  'score': '0.5466928'},\n",
              " {'id': 'https://openalex.org/C119621388',\n",
              "  'wikidata': 'https://www.wikidata.org/wiki/Q5377166',\n",
              "  'display_name': 'Energy landscape',\n",
              "  'level': 2,\n",
              "  'score': '0.50781685'},\n",
              " {'id': 'https://openalex.org/C186370098',\n",
              "  'wikidata': 'https://www.wikidata.org/wiki/Q442787',\n",
              "  'display_name': 'Energy (signal processing)',\n",
              "  'level': 2,\n",
              "  'score': '0.47779354'},\n",
              " {'id': 'https://openalex.org/C186060115',\n",
              "  'wikidata': 'https://www.wikidata.org/wiki/Q30336093',\n",
              "  'display_name': 'Biological system',\n",
              "  'level': 1,\n",
              "  'score': '0.44117144'},\n",
              " {'id': 'https://openalex.org/C138268822',\n",
              "  'wikidata': 'https://www.wikidata.org/wiki/Q1051925',\n",
              "  'display_name': 'Resolution (logic)',\n",
              "  'level': 2,\n",
              "  'score': '0.41922113'},\n",
              " {'id': 'https://openalex.org/C41008148',\n",
              "  'wikidata': 'https://www.wikidata.org/wiki/Q21198',\n",
              "  'display_name': 'Computer science',\n",
              "  'level': 0,\n",
              "  'score': '0.40615746'},\n",
              " {'id': 'https://openalex.org/C11413529',\n",
              "  'wikidata': 'https://www.wikidata.org/wiki/Q8366',\n",
              "  'display_name': 'Algorithm',\n",
              "  'level': 1,\n",
              "  'score': '0.34017968'},\n",
              " {'id': 'https://openalex.org/C121332964',\n",
              "  'wikidata': 'https://www.wikidata.org/wiki/Q413',\n",
              "  'display_name': 'Physics',\n",
              "  'level': 0,\n",
              "  'score': '0.33482283'}]"
            ]
          },
          "metadata": {},
          "execution_count": 39
        }
      ]
    },
    {
      "cell_type": "code",
      "source": [
        "[[d.get('display_name') for d in p['concepts'] if d.get('level')==0] for p in max_planck]"
      ],
      "metadata": {
        "id": "zpKeWnzEBHbI",
        "outputId": "5442813f-949c-420c-e251-7023d10121ef",
        "colab": {
          "base_uri": "https://localhost:8080/",
          "height": 217
        }
      },
      "execution_count": null,
      "outputs": [
        {
          "output_type": "error",
          "ename": "TypeError",
          "evalue": "ignored",
          "traceback": [
            "\u001b[0;31m---------------------------------------------------------------------------\u001b[0m",
            "\u001b[0;31mTypeError\u001b[0m                                 Traceback (most recent call last)",
            "\u001b[0;32m<ipython-input-34-84678259e4ac>\u001b[0m in \u001b[0;36m<module>\u001b[0;34m\u001b[0m\n\u001b[0;32m----> 1\u001b[0;31m \u001b[0;34m[\u001b[0m\u001b[0;34m[\u001b[0m\u001b[0md\u001b[0m\u001b[0;34m.\u001b[0m\u001b[0mget\u001b[0m\u001b[0;34m(\u001b[0m\u001b[0;34m'display_name'\u001b[0m\u001b[0;34m)\u001b[0m \u001b[0;32mfor\u001b[0m \u001b[0md\u001b[0m \u001b[0;32min\u001b[0m \u001b[0mp\u001b[0m\u001b[0;34m[\u001b[0m\u001b[0;34m'concepts'\u001b[0m\u001b[0;34m]\u001b[0m \u001b[0;32mif\u001b[0m \u001b[0md\u001b[0m\u001b[0;34m.\u001b[0m\u001b[0mget\u001b[0m\u001b[0;34m(\u001b[0m\u001b[0;34m'level'\u001b[0m\u001b[0;34m)\u001b[0m\u001b[0;34m==\u001b[0m\u001b[0;36m0\u001b[0m\u001b[0;34m]\u001b[0m \u001b[0;32mfor\u001b[0m \u001b[0mp\u001b[0m \u001b[0;32min\u001b[0m \u001b[0mmax_planck\u001b[0m\u001b[0;34m]\u001b[0m\u001b[0;34m\u001b[0m\u001b[0;34m\u001b[0m\u001b[0m\n\u001b[0m",
            "\u001b[0;32m<ipython-input-34-84678259e4ac>\u001b[0m in \u001b[0;36m<listcomp>\u001b[0;34m(.0)\u001b[0m\n\u001b[0;32m----> 1\u001b[0;31m \u001b[0;34m[\u001b[0m\u001b[0;34m[\u001b[0m\u001b[0md\u001b[0m\u001b[0;34m.\u001b[0m\u001b[0mget\u001b[0m\u001b[0;34m(\u001b[0m\u001b[0;34m'display_name'\u001b[0m\u001b[0;34m)\u001b[0m \u001b[0;32mfor\u001b[0m \u001b[0md\u001b[0m \u001b[0;32min\u001b[0m \u001b[0mp\u001b[0m\u001b[0;34m[\u001b[0m\u001b[0;34m'concepts'\u001b[0m\u001b[0;34m]\u001b[0m \u001b[0;32mif\u001b[0m \u001b[0md\u001b[0m\u001b[0;34m.\u001b[0m\u001b[0mget\u001b[0m\u001b[0;34m(\u001b[0m\u001b[0;34m'level'\u001b[0m\u001b[0;34m)\u001b[0m\u001b[0;34m==\u001b[0m\u001b[0;36m0\u001b[0m\u001b[0;34m]\u001b[0m \u001b[0;32mfor\u001b[0m \u001b[0mp\u001b[0m \u001b[0;32min\u001b[0m \u001b[0mmax_planck\u001b[0m\u001b[0;34m]\u001b[0m\u001b[0;34m\u001b[0m\u001b[0;34m\u001b[0m\u001b[0m\n\u001b[0m",
            "\u001b[0;31mTypeError\u001b[0m: string indices must be integers"
          ]
        }
      ]
    },
    {
      "cell_type": "code",
      "source": [
        "cp=pd.read_excel('https://docs.google.com/spreadsheets/d/e/2PACX-1vT9JrvUwanM-z-hCZ1SSaxRx2wfzLV3RVvm5BJaf8TABBmpIwKt7iYt1sVLbImVevh9YNaZK9Y7sfI9/pub?output=xlsx')"
      ],
      "metadata": {
        "id": "aaTgYfjsXOBp"
      },
      "execution_count": null,
      "outputs": []
    },
    {
      "cell_type": "code",
      "source": [
        "ph1=cp[ (cp['level']==1) & (cp['parent_display_names'].astype(str).str.contains('physics')) \n",
        "      ]['display_name'].to_list()\n",
        "\n",
        "ph2=cp[(cp['level']==2) & (cp['parent_display_names'].astype(str).str.split(', ').apply(\n",
        "    lambda l: set(l).intersection(set(ph1))).apply(len)>0)]['display_name'].to_list()"
      ],
      "metadata": {
        "id": "ii63f9eOYEkW"
      },
      "execution_count": null,
      "outputs": []
    },
    {
      "cell_type": "code",
      "source": [
        "len(ph1), len(ph2)"
      ],
      "metadata": {
        "id": "BTk3iDClRGff",
        "outputId": "15084157-2206-436c-ceee-ebc89722ccb4",
        "colab": {
          "base_uri": "https://localhost:8080/"
        }
      },
      "execution_count": null,
      "outputs": [
        {
          "output_type": "execute_result",
          "data": {
            "text/plain": [
              "(27, 2979)"
            ]
          },
          "metadata": {},
          "execution_count": 13
        }
      ]
    },
    {
      "cell_type": "code",
      "source": [],
      "metadata": {
        "id": "NhRqqC5DvZTm"
      },
      "execution_count": null,
      "outputs": []
    },
    {
      "cell_type": "code",
      "source": [
        "ph1_related = list(np.array(ph1)[[3, 4, 5, 16, 17, 18, 20]])#, 21, 25]])"
      ],
      "metadata": {
        "id": "ZsmsWerzis1v"
      },
      "execution_count": null,
      "outputs": []
    },
    {
      "cell_type": "code",
      "source": [
        "ph2_related = np.array([concept2 for concept2 in ph2 if \"bio\" in concept2.lower()])[[5, 6, 14, 16]]"
      ],
      "metadata": {
        "id": "phKsq_twqPFZ"
      },
      "execution_count": null,
      "outputs": []
    },
    {
      "cell_type": "code",
      "source": [
        "def filter_level_concept(objeto, level, concept):\n",
        "    results = objeto[objeto['concepts'].apply(lambda l: {concept}.intersection( \n",
        "    [d.get('display_name') for d in l if d.get('level')==level])).apply(len)>0]\n",
        "    return results"
      ],
      "metadata": {
        "id": "p9X-q9sUTlZg"
      },
      "execution_count": null,
      "outputs": []
    },
    {
      "cell_type": "code",
      "source": [
        "#ll=possible_physics['concepts'].apply(lambda l: set([d.get('display_name') for d in l if d.get('level')==1]).intersection(ph1)).apply(list)\n",
        "#ph1_udea=set([item for subitem in ll for item in subitem])"
      ],
      "metadata": {
        "id": "Z_p24J5gYicu"
      },
      "execution_count": null,
      "outputs": []
    },
    {
      "cell_type": "code",
      "source": [
        "#set(ph1).difference(ph1_udea)"
      ],
      "metadata": {
        "id": "3rxlUYxOaXdA"
      },
      "execution_count": null,
      "outputs": []
    },
    {
      "cell_type": "code",
      "source": [
        "#[ll_ for ll_ in ll if ll_]"
      ],
      "metadata": {
        "id": "fB3oZJuzhBfY"
      },
      "execution_count": null,
      "outputs": []
    },
    {
      "cell_type": "code",
      "source": [
        "physics1_related = [filter_level_concept(possible_physics, 1, concept) for concept in ph1_related]"
      ],
      "metadata": {
        "id": "AUPReTymTNtT"
      },
      "execution_count": null,
      "outputs": []
    },
    {
      "cell_type": "code",
      "source": [
        "[len(physics1_related_) for physics1_related_ in physics1_related]"
      ],
      "metadata": {
        "id": "Q74aZ0NUTa-_",
        "outputId": "bca2445e-d4f9-45a2-b96d-99b1aec5c86c",
        "colab": {
          "base_uri": "https://localhost:8080/"
        }
      },
      "execution_count": null,
      "outputs": [
        {
          "output_type": "execute_result",
          "data": {
            "text/plain": [
              "[40, 49, 41, 10, 5, 142, 65, 38, 260]"
            ]
          },
          "metadata": {},
          "execution_count": 43
        }
      ]
    },
    {
      "cell_type": "code",
      "source": [
        "ph1_related, ph2_related"
      ],
      "metadata": {
        "id": "JXh7g1_mwiij",
        "outputId": "c8243305-0776-4fe0-8e6d-3052025cd5ed",
        "colab": {
          "base_uri": "https://localhost:8080/"
        }
      },
      "execution_count": null,
      "outputs": [
        {
          "output_type": "execute_result",
          "data": {
            "text/plain": [
              "(['Statistical physics',\n",
              "  'Theoretical physics',\n",
              "  'Molecular physics',\n",
              "  'Computational physics',\n",
              "  'Chemical physics',\n",
              "  'Atomic physics',\n",
              "  'Quantum mechanics',\n",
              "  'Mathematical physics',\n",
              "  'Condensed matter physics'],\n",
              " array(['Molecular biophysics', 'Turn (biochemistry)', 'Biomechanics',\n",
              "        'Clinical biochemistry'], dtype='<U36'))"
            ]
          },
          "metadata": {},
          "execution_count": 45
        }
      ]
    },
    {
      "cell_type": "code",
      "source": [
        "[[filter_level_concept(physics1_related_, 2, ph2_related_) for ph2_related_ in ph2_related] for physics1_related_ in physics1_related]"
      ],
      "metadata": {
        "id": "avVtvxUnbtro",
        "outputId": "4e7a22a5-b249-4093-c602-79d5009da51a",
        "colab": {
          "base_uri": "https://localhost:8080/"
        }
      },
      "execution_count": null,
      "outputs": [
        {
          "output_type": "execute_result",
          "data": {
            "text/plain": [
              "[[Empty DataFrame\n",
              "  Columns: [id, doi, title, display_name, publication_year, publication_date, ids, host_venue, type, open_access, authorships, cited_by_count, biblio, is_retracted, is_paratext, concepts, mesh, alternate_host_venues, referenced_works, related_works, cited_by_api_url, counts_by_year, updated_date, created_date, abstract_inverted_index]\n",
              "  Index: []\n",
              "  \n",
              "  [0 rows x 25 columns], Empty DataFrame\n",
              "  Columns: [id, doi, title, display_name, publication_year, publication_date, ids, host_venue, type, open_access, authorships, cited_by_count, biblio, is_retracted, is_paratext, concepts, mesh, alternate_host_venues, referenced_works, related_works, cited_by_api_url, counts_by_year, updated_date, created_date, abstract_inverted_index]\n",
              "  Index: []\n",
              "  \n",
              "  [0 rows x 25 columns], Empty DataFrame\n",
              "  Columns: [id, doi, title, display_name, publication_year, publication_date, ids, host_venue, type, open_access, authorships, cited_by_count, biblio, is_retracted, is_paratext, concepts, mesh, alternate_host_venues, referenced_works, related_works, cited_by_api_url, counts_by_year, updated_date, created_date, abstract_inverted_index]\n",
              "  Index: []\n",
              "  \n",
              "  [0 rows x 25 columns], Empty DataFrame\n",
              "  Columns: [id, doi, title, display_name, publication_year, publication_date, ids, host_venue, type, open_access, authorships, cited_by_count, biblio, is_retracted, is_paratext, concepts, mesh, alternate_host_venues, referenced_works, related_works, cited_by_api_url, counts_by_year, updated_date, created_date, abstract_inverted_index]\n",
              "  Index: []\n",
              "  \n",
              "  [0 rows x 25 columns]], [Empty DataFrame\n",
              "  Columns: [id, doi, title, display_name, publication_year, publication_date, ids, host_venue, type, open_access, authorships, cited_by_count, biblio, is_retracted, is_paratext, concepts, mesh, alternate_host_venues, referenced_works, related_works, cited_by_api_url, counts_by_year, updated_date, created_date, abstract_inverted_index]\n",
              "  Index: []\n",
              "  \n",
              "  [0 rows x 25 columns], Empty DataFrame\n",
              "  Columns: [id, doi, title, display_name, publication_year, publication_date, ids, host_venue, type, open_access, authorships, cited_by_count, biblio, is_retracted, is_paratext, concepts, mesh, alternate_host_venues, referenced_works, related_works, cited_by_api_url, counts_by_year, updated_date, created_date, abstract_inverted_index]\n",
              "  Index: []\n",
              "  \n",
              "  [0 rows x 25 columns], Empty DataFrame\n",
              "  Columns: [id, doi, title, display_name, publication_year, publication_date, ids, host_venue, type, open_access, authorships, cited_by_count, biblio, is_retracted, is_paratext, concepts, mesh, alternate_host_venues, referenced_works, related_works, cited_by_api_url, counts_by_year, updated_date, created_date, abstract_inverted_index]\n",
              "  Index: []\n",
              "  \n",
              "  [0 rows x 25 columns], Empty DataFrame\n",
              "  Columns: [id, doi, title, display_name, publication_year, publication_date, ids, host_venue, type, open_access, authorships, cited_by_count, biblio, is_retracted, is_paratext, concepts, mesh, alternate_host_venues, referenced_works, related_works, cited_by_api_url, counts_by_year, updated_date, created_date, abstract_inverted_index]\n",
              "  Index: []\n",
              "  \n",
              "  [0 rows x 25 columns]], [Empty DataFrame\n",
              "  Columns: [id, doi, title, display_name, publication_year, publication_date, ids, host_venue, type, open_access, authorships, cited_by_count, biblio, is_retracted, is_paratext, concepts, mesh, alternate_host_venues, referenced_works, related_works, cited_by_api_url, counts_by_year, updated_date, created_date, abstract_inverted_index]\n",
              "  Index: []\n",
              "  \n",
              "  [0 rows x 25 columns], Empty DataFrame\n",
              "  Columns: [id, doi, title, display_name, publication_year, publication_date, ids, host_venue, type, open_access, authorships, cited_by_count, biblio, is_retracted, is_paratext, concepts, mesh, alternate_host_venues, referenced_works, related_works, cited_by_api_url, counts_by_year, updated_date, created_date, abstract_inverted_index]\n",
              "  Index: []\n",
              "  \n",
              "  [0 rows x 25 columns], Empty DataFrame\n",
              "  Columns: [id, doi, title, display_name, publication_year, publication_date, ids, host_venue, type, open_access, authorships, cited_by_count, biblio, is_retracted, is_paratext, concepts, mesh, alternate_host_venues, referenced_works, related_works, cited_by_api_url, counts_by_year, updated_date, created_date, abstract_inverted_index]\n",
              "  Index: []\n",
              "  \n",
              "  [0 rows x 25 columns], Empty DataFrame\n",
              "  Columns: [id, doi, title, display_name, publication_year, publication_date, ids, host_venue, type, open_access, authorships, cited_by_count, biblio, is_retracted, is_paratext, concepts, mesh, alternate_host_venues, referenced_works, related_works, cited_by_api_url, counts_by_year, updated_date, created_date, abstract_inverted_index]\n",
              "  Index: []\n",
              "  \n",
              "  [0 rows x 25 columns]], [Empty DataFrame\n",
              "  Columns: [id, doi, title, display_name, publication_year, publication_date, ids, host_venue, type, open_access, authorships, cited_by_count, biblio, is_retracted, is_paratext, concepts, mesh, alternate_host_venues, referenced_works, related_works, cited_by_api_url, counts_by_year, updated_date, created_date, abstract_inverted_index]\n",
              "  Index: []\n",
              "  \n",
              "  [0 rows x 25 columns], Empty DataFrame\n",
              "  Columns: [id, doi, title, display_name, publication_year, publication_date, ids, host_venue, type, open_access, authorships, cited_by_count, biblio, is_retracted, is_paratext, concepts, mesh, alternate_host_venues, referenced_works, related_works, cited_by_api_url, counts_by_year, updated_date, created_date, abstract_inverted_index]\n",
              "  Index: []\n",
              "  \n",
              "  [0 rows x 25 columns], Empty DataFrame\n",
              "  Columns: [id, doi, title, display_name, publication_year, publication_date, ids, host_venue, type, open_access, authorships, cited_by_count, biblio, is_retracted, is_paratext, concepts, mesh, alternate_host_venues, referenced_works, related_works, cited_by_api_url, counts_by_year, updated_date, created_date, abstract_inverted_index]\n",
              "  Index: []\n",
              "  \n",
              "  [0 rows x 25 columns], Empty DataFrame\n",
              "  Columns: [id, doi, title, display_name, publication_year, publication_date, ids, host_venue, type, open_access, authorships, cited_by_count, biblio, is_retracted, is_paratext, concepts, mesh, alternate_host_venues, referenced_works, related_works, cited_by_api_url, counts_by_year, updated_date, created_date, abstract_inverted_index]\n",
              "  Index: []\n",
              "  \n",
              "  [0 rows x 25 columns]], [Empty DataFrame\n",
              "  Columns: [id, doi, title, display_name, publication_year, publication_date, ids, host_venue, type, open_access, authorships, cited_by_count, biblio, is_retracted, is_paratext, concepts, mesh, alternate_host_venues, referenced_works, related_works, cited_by_api_url, counts_by_year, updated_date, created_date, abstract_inverted_index]\n",
              "  Index: []\n",
              "  \n",
              "  [0 rows x 25 columns], Empty DataFrame\n",
              "  Columns: [id, doi, title, display_name, publication_year, publication_date, ids, host_venue, type, open_access, authorships, cited_by_count, biblio, is_retracted, is_paratext, concepts, mesh, alternate_host_venues, referenced_works, related_works, cited_by_api_url, counts_by_year, updated_date, created_date, abstract_inverted_index]\n",
              "  Index: []\n",
              "  \n",
              "  [0 rows x 25 columns], Empty DataFrame\n",
              "  Columns: [id, doi, title, display_name, publication_year, publication_date, ids, host_venue, type, open_access, authorships, cited_by_count, biblio, is_retracted, is_paratext, concepts, mesh, alternate_host_venues, referenced_works, related_works, cited_by_api_url, counts_by_year, updated_date, created_date, abstract_inverted_index]\n",
              "  Index: []\n",
              "  \n",
              "  [0 rows x 25 columns], Empty DataFrame\n",
              "  Columns: [id, doi, title, display_name, publication_year, publication_date, ids, host_venue, type, open_access, authorships, cited_by_count, biblio, is_retracted, is_paratext, concepts, mesh, alternate_host_venues, referenced_works, related_works, cited_by_api_url, counts_by_year, updated_date, created_date, abstract_inverted_index]\n",
              "  Index: []\n",
              "  \n",
              "  [0 rows x 25 columns]], [Empty DataFrame\n",
              "  Columns: [id, doi, title, display_name, publication_year, publication_date, ids, host_venue, type, open_access, authorships, cited_by_count, biblio, is_retracted, is_paratext, concepts, mesh, alternate_host_venues, referenced_works, related_works, cited_by_api_url, counts_by_year, updated_date, created_date, abstract_inverted_index]\n",
              "  Index: []\n",
              "  \n",
              "  [0 rows x 25 columns], Empty DataFrame\n",
              "  Columns: [id, doi, title, display_name, publication_year, publication_date, ids, host_venue, type, open_access, authorships, cited_by_count, biblio, is_retracted, is_paratext, concepts, mesh, alternate_host_venues, referenced_works, related_works, cited_by_api_url, counts_by_year, updated_date, created_date, abstract_inverted_index]\n",
              "  Index: []\n",
              "  \n",
              "  [0 rows x 25 columns], Empty DataFrame\n",
              "  Columns: [id, doi, title, display_name, publication_year, publication_date, ids, host_venue, type, open_access, authorships, cited_by_count, biblio, is_retracted, is_paratext, concepts, mesh, alternate_host_venues, referenced_works, related_works, cited_by_api_url, counts_by_year, updated_date, created_date, abstract_inverted_index]\n",
              "  Index: []\n",
              "  \n",
              "  [0 rows x 25 columns], Empty DataFrame\n",
              "  Columns: [id, doi, title, display_name, publication_year, publication_date, ids, host_venue, type, open_access, authorships, cited_by_count, biblio, is_retracted, is_paratext, concepts, mesh, alternate_host_venues, referenced_works, related_works, cited_by_api_url, counts_by_year, updated_date, created_date, abstract_inverted_index]\n",
              "  Index: []\n",
              "  \n",
              "  [0 rows x 25 columns]], [Empty DataFrame\n",
              "  Columns: [id, doi, title, display_name, publication_year, publication_date, ids, host_venue, type, open_access, authorships, cited_by_count, biblio, is_retracted, is_paratext, concepts, mesh, alternate_host_venues, referenced_works, related_works, cited_by_api_url, counts_by_year, updated_date, created_date, abstract_inverted_index]\n",
              "  Index: []\n",
              "  \n",
              "  [0 rows x 25 columns], Empty DataFrame\n",
              "  Columns: [id, doi, title, display_name, publication_year, publication_date, ids, host_venue, type, open_access, authorships, cited_by_count, biblio, is_retracted, is_paratext, concepts, mesh, alternate_host_venues, referenced_works, related_works, cited_by_api_url, counts_by_year, updated_date, created_date, abstract_inverted_index]\n",
              "  Index: []\n",
              "  \n",
              "  [0 rows x 25 columns], Empty DataFrame\n",
              "  Columns: [id, doi, title, display_name, publication_year, publication_date, ids, host_venue, type, open_access, authorships, cited_by_count, biblio, is_retracted, is_paratext, concepts, mesh, alternate_host_venues, referenced_works, related_works, cited_by_api_url, counts_by_year, updated_date, created_date, abstract_inverted_index]\n",
              "  Index: []\n",
              "  \n",
              "  [0 rows x 25 columns], Empty DataFrame\n",
              "  Columns: [id, doi, title, display_name, publication_year, publication_date, ids, host_venue, type, open_access, authorships, cited_by_count, biblio, is_retracted, is_paratext, concepts, mesh, alternate_host_venues, referenced_works, related_works, cited_by_api_url, counts_by_year, updated_date, created_date, abstract_inverted_index]\n",
              "  Index: []\n",
              "  \n",
              "  [0 rows x 25 columns]], [Empty DataFrame\n",
              "  Columns: [id, doi, title, display_name, publication_year, publication_date, ids, host_venue, type, open_access, authorships, cited_by_count, biblio, is_retracted, is_paratext, concepts, mesh, alternate_host_venues, referenced_works, related_works, cited_by_api_url, counts_by_year, updated_date, created_date, abstract_inverted_index]\n",
              "  Index: []\n",
              "  \n",
              "  [0 rows x 25 columns], Empty DataFrame\n",
              "  Columns: [id, doi, title, display_name, publication_year, publication_date, ids, host_venue, type, open_access, authorships, cited_by_count, biblio, is_retracted, is_paratext, concepts, mesh, alternate_host_venues, referenced_works, related_works, cited_by_api_url, counts_by_year, updated_date, created_date, abstract_inverted_index]\n",
              "  Index: []\n",
              "  \n",
              "  [0 rows x 25 columns], Empty DataFrame\n",
              "  Columns: [id, doi, title, display_name, publication_year, publication_date, ids, host_venue, type, open_access, authorships, cited_by_count, biblio, is_retracted, is_paratext, concepts, mesh, alternate_host_venues, referenced_works, related_works, cited_by_api_url, counts_by_year, updated_date, created_date, abstract_inverted_index]\n",
              "  Index: []\n",
              "  \n",
              "  [0 rows x 25 columns], Empty DataFrame\n",
              "  Columns: [id, doi, title, display_name, publication_year, publication_date, ids, host_venue, type, open_access, authorships, cited_by_count, biblio, is_retracted, is_paratext, concepts, mesh, alternate_host_venues, referenced_works, related_works, cited_by_api_url, counts_by_year, updated_date, created_date, abstract_inverted_index]\n",
              "  Index: []\n",
              "  \n",
              "  [0 rows x 25 columns]], [Empty DataFrame\n",
              "  Columns: [id, doi, title, display_name, publication_year, publication_date, ids, host_venue, type, open_access, authorships, cited_by_count, biblio, is_retracted, is_paratext, concepts, mesh, alternate_host_venues, referenced_works, related_works, cited_by_api_url, counts_by_year, updated_date, created_date, abstract_inverted_index]\n",
              "  Index: []\n",
              "  \n",
              "  [0 rows x 25 columns], Empty DataFrame\n",
              "  Columns: [id, doi, title, display_name, publication_year, publication_date, ids, host_venue, type, open_access, authorships, cited_by_count, biblio, is_retracted, is_paratext, concepts, mesh, alternate_host_venues, referenced_works, related_works, cited_by_api_url, counts_by_year, updated_date, created_date, abstract_inverted_index]\n",
              "  Index: []\n",
              "  \n",
              "  [0 rows x 25 columns], Empty DataFrame\n",
              "  Columns: [id, doi, title, display_name, publication_year, publication_date, ids, host_venue, type, open_access, authorships, cited_by_count, biblio, is_retracted, is_paratext, concepts, mesh, alternate_host_venues, referenced_works, related_works, cited_by_api_url, counts_by_year, updated_date, created_date, abstract_inverted_index]\n",
              "  Index: []\n",
              "  \n",
              "  [0 rows x 25 columns], Empty DataFrame\n",
              "  Columns: [id, doi, title, display_name, publication_year, publication_date, ids, host_venue, type, open_access, authorships, cited_by_count, biblio, is_retracted, is_paratext, concepts, mesh, alternate_host_venues, referenced_works, related_works, cited_by_api_url, counts_by_year, updated_date, created_date, abstract_inverted_index]\n",
              "  Index: []\n",
              "  \n",
              "  [0 rows x 25 columns]]]"
            ]
          },
          "metadata": {},
          "execution_count": 53
        }
      ]
    },
    {
      "cell_type": "code",
      "source": [
        "physics1_related[0].iloc[3].authorships"
      ],
      "metadata": {
        "id": "rSJQJK6ybwl8",
        "outputId": "ace43331-ae5c-418a-f0aa-1c65936946f9",
        "colab": {
          "base_uri": "https://localhost:8080/"
        }
      },
      "execution_count": null,
      "outputs": [
        {
          "output_type": "execute_result",
          "data": {
            "text/plain": [
              "[{'author_position': 'first',\n",
              "  'author': {'id': 'https://openalex.org/A2168894740',\n",
              "   'display_name': 'Richard H. Benavides',\n",
              "   'orcid': None},\n",
              "  'institutions': [{'id': 'https://openalex.org/I4210141572',\n",
              "    'display_name': 'Instituto Tecnológico Metropolitano',\n",
              "    'ror': 'https://ror.org/03zb5p722',\n",
              "    'country_code': 'CO',\n",
              "    'type': 'education'}],\n",
              "  'raw_affiliation_string': \"Facultad de Ciencias Exactas y Aplicadas, Instituto Tecnol\\\\'ogico Metropolitano, Calle 73 No 76 A - 354 , V\\\\'ia el Volador, Medell\\\\'in, Colombia, Medellín, COLOMBIA\"},\n",
              " {'author_position': 'middle',\n",
              "  'author': {'id': 'https://openalex.org/A2618386090',\n",
              "   'display_name': 'Luis Muñoz',\n",
              "   'orcid': None},\n",
              "  'institutions': [{'id': 'https://openalex.org/I4210141572',\n",
              "    'display_name': 'Instituto Tecnológico Metropolitano',\n",
              "    'ror': 'https://ror.org/03zb5p722',\n",
              "    'country_code': 'CO',\n",
              "    'type': 'education'}],\n",
              "  'raw_affiliation_string': \"Facultad de Ciencias Exactas y Aplicadas, Instituto Tecnol\\\\'ogico Metropolitano, Calle 73 No 76 A - 354 , V\\\\'ia el Volador, Medell\\\\'in, Colombia, Medellín, COLOMBIA\"},\n",
              " {'author_position': 'middle',\n",
              "  'author': {'id': 'https://openalex.org/A3174203794',\n",
              "   'display_name': 'William A. Ponce',\n",
              "   'orcid': None},\n",
              "  'institutions': [{'id': 'https://openalex.org/I35961687',\n",
              "    'display_name': 'University of Antioquia',\n",
              "    'ror': 'https://ror.org/03bp5hc83',\n",
              "    'country_code': 'CO',\n",
              "    'type': 'education'}],\n",
              "  'raw_affiliation_string': 'Phenomenology of Fundamental Interactions, Universidad de Antioquia, Medellín, Antioquia, COLOMBIA'},\n",
              " {'author_position': 'middle',\n",
              "  'author': {'id': 'https://openalex.org/A2515136019',\n",
              "   'display_name': 'Oscar Rodríguez',\n",
              "   'orcid': None},\n",
              "  'institutions': [{'id': 'https://openalex.org/I35961687',\n",
              "    'display_name': 'University of Antioquia',\n",
              "    'ror': 'https://ror.org/03bp5hc83',\n",
              "    'country_code': 'CO',\n",
              "    'type': 'education'}],\n",
              "  'raw_affiliation_string': 'Phenomenology of Fundamental Interactions, Universidad de Antioquia, Medellín, Antioquia, COLOMBIA'},\n",
              " {'author_position': 'last',\n",
              "  'author': {'id': 'https://openalex.org/A2780082222',\n",
              "   'display_name': 'Eduardo Rojas',\n",
              "   'orcid': 'https://orcid.org/0000-0002-7255-7778'},\n",
              "  'institutions': [{'id': 'https://openalex.org/I271702661',\n",
              "    'display_name': 'University of Nariño',\n",
              "    'ror': 'https://ror.org/050bg0846',\n",
              "    'country_code': 'CO',\n",
              "    'type': 'education'}],\n",
              "  'raw_affiliation_string': 'física, Universidad de Nariño, San Juan de Puesto, Nariño, COLOMBIA'}]"
            ]
          },
          "metadata": {},
          "execution_count": 49
        }
      ]
    },
    {
      "cell_type": "code",
      "source": [],
      "metadata": {
        "id": "dsOBWoyUBh2a"
      },
      "execution_count": null,
      "outputs": []
    }
  ],
  "metadata": {
    "kernelspec": {
      "display_name": "Python 3.9.12 ('comp_avanz')",
      "language": "python",
      "name": "python3"
    },
    "language_info": {
      "codemirror_mode": {
        "name": "ipython",
        "version": 3
      },
      "file_extension": ".py",
      "mimetype": "text/x-python",
      "name": "python",
      "nbconvert_exporter": "python",
      "pygments_lexer": "ipython3",
      "version": "3.9.12"
    },
    "orig_nbformat": 4,
    "vscode": {
      "interpreter": {
        "hash": "add0685a1965005be9be0975996da26f37d5472cceef27ccf55a2f3f6645711f"
      }
    },
    "colab": {
      "provenance": [],
      "include_colab_link": true
    }
  },
  "nbformat": 4,
  "nbformat_minor": 0
}