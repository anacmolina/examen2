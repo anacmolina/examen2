{
  "cells": [
    {
      "cell_type": "markdown",
      "metadata": {
        "id": "view-in-github",
        "colab_type": "text"
      },
      "source": [
        "<a href=\"https://colab.research.google.com/github/anacmolina/examen2/blob/main/examen2.ipynb\" target=\"_parent\"><img src=\"https://colab.research.google.com/assets/colab-badge.svg\" alt=\"Open In Colab\"/></a>"
      ]
    },
    {
      "cell_type": "code",
      "source": [
        "import json\n",
        "import pandas as pd\n",
        "from google.colab import files\n",
        "#From https://gist.github.com/korakot/072f1ea70d3c3267ff2c64b61d78c89c\n",
        "import json\n",
        "from IPython.display import HTML\n",
        "\n",
        "def JSON(jstr):\n",
        "  if type(jstr) != str:\n",
        "    jstr = json.dumps(jstr)\n",
        "  return HTML(\"\"\"\n",
        "\n",
        "\n",
        "renderjson.set_show_to_level(1)\n",
        "document.body.appendChild(renderjson(%s))\n",
        "new ResizeObserver(google.colab.output.resizeIframeToContent).observe(document.body)\n",
        "\n",
        "\"\"\" % jstr)"
      ],
      "metadata": {
        "id": "kNnYBJ_cJ5Fn"
      },
      "execution_count": 1,
      "outputs": []
    },
    {
      "cell_type": "code",
      "source": [
        "import numpy as np"
      ],
      "metadata": {
        "id": "xfTV-iHXvyT-"
      },
      "execution_count": 2,
      "outputs": []
    },
    {
      "cell_type": "code",
      "source": [
        "from google.colab import drive\n",
        "drive.mount('/content/drive')"
      ],
      "metadata": {
        "id": "jPSCsl7NMORO",
        "outputId": "a7af4d80-3c4a-43f0-eca8-e4c1c3279565",
        "colab": {
          "base_uri": "https://localhost:8080/"
        }
      },
      "execution_count": 3,
      "outputs": [
        {
          "output_type": "stream",
          "name": "stdout",
          "text": [
            "Mounted at /content/drive\n"
          ]
        }
      ]
    },
    {
      "cell_type": "code",
      "source": [
        "with open('/content/drive/MyDrive/json/openalexco.json','r') as miarchivo:\n",
        "    objeto=miarchivo.read()\n",
        "objeto=json.loads(objeto)"
      ],
      "metadata": {
        "id": "4w4vq_LFV3jP"
      },
      "execution_count": 4,
      "outputs": []
    },
    {
      "cell_type": "code",
      "source": [
        "objeto=pd.DataFrame(objeto)\n",
        "objeto.shape"
      ],
      "metadata": {
        "id": "ZC5iogNOa-Rj",
        "colab": {
          "base_uri": "https://localhost:8080/"
        },
        "outputId": "accf3d6a-9086-422a-f98a-aa1a465d9a49"
      },
      "execution_count": 5,
      "outputs": [
        {
          "output_type": "execute_result",
          "data": {
            "text/plain": [
              "(343057, 25)"
            ]
          },
          "metadata": {},
          "execution_count": 5
        }
      ]
    },
    {
      "cell_type": "code",
      "source": [
        "def filter_ror(authorships,ror=\"https://ror.org/03bp5hc83\"):\n",
        "  return any([any([i.get('ror')==ror for i in a.get('institutions')])  for a in authorships])\n"
      ],
      "metadata": {
        "id": "wRUzRmGvV75e"
      },
      "execution_count": 6,
      "outputs": []
    },
    {
      "cell_type": "code",
      "source": [
        "objeto = objeto[objeto['authorships'].apply(filter_ror)]\n",
        "objeto.shape"
      ],
      "metadata": {
        "id": "CK2ARx31Yx2b",
        "colab": {
          "base_uri": "https://localhost:8080/"
        },
        "outputId": "664dddab-1010-482a-9a27-9435e4e07441"
      },
      "execution_count": 7,
      "outputs": [
        {
          "output_type": "execute_result",
          "data": {
            "text/plain": [
              "(34291, 25)"
            ]
          },
          "metadata": {},
          "execution_count": 7
        }
      ]
    },
    {
      "cell_type": "code",
      "source": [
        "# Filter by research group max_planck biophysics of tropical diseases"
      ],
      "metadata": {
        "id": "kLWvn6gUooYd"
      },
      "execution_count": 8,
      "outputs": []
    },
    {
      "cell_type": "code",
      "source": [
        "research_gruop = (\"Biophysics of tropical diseases\").lower()"
      ],
      "metadata": {
        "id": "gLoxa0Dro1aq"
      },
      "execution_count": 9,
      "outputs": []
    },
    {
      "cell_type": "code",
      "source": [
        "def filter_by_RG(authorships, research_gruop = research_gruop):\n",
        "    return any([research_gruop in str(each_author.get('raw_affiliation_string')).lower() for each_author in authorships])"
      ],
      "metadata": {
        "id": "pDmvM5ryosLc"
      },
      "execution_count": 10,
      "outputs": []
    },
    {
      "cell_type": "code",
      "source": [
        "max_planck = objeto.copy()\n",
        "max_planck = max_planck[max_planck['authorships'].apply(filter_by_RG)]\n",
        "max_planck.shape"
      ],
      "metadata": {
        "colab": {
          "base_uri": "https://localhost:8080/"
        },
        "id": "bPCSotvaosHt",
        "outputId": "7f2424e0-af87-4842-b69f-3d80b03929d4"
      },
      "execution_count": 11,
      "outputs": [
        {
          "output_type": "execute_result",
          "data": {
            "text/plain": [
              "(27, 25)"
            ]
          },
          "metadata": {},
          "execution_count": 11
        }
      ]
    },
    {
      "cell_type": "code",
      "source": [
        "def flatten(l):\n",
        "    return [item for sublist in l for item in sublist]"
      ],
      "metadata": {
        "id": "DgC7ZEJmwVFK"
      },
      "execution_count": 12,
      "outputs": []
    },
    {
      "cell_type": "code",
      "source": [
        "def get_concepts(df, level):\n",
        "    filter = lambda concepts: [d.get('display_name') for d in concepts if level == d.get('level')]\n",
        "    concepts, counts = np.unique(flatten(df['concepts'].apply(filter)), return_counts=True)\n",
        "    sort_ind = np.argsort(-counts)\n",
        "    return concepts[sort_ind].tolist()"
      ],
      "metadata": {
        "id": "gVQVxioF9A7q"
      },
      "execution_count": 13,
      "outputs": []
    },
    {
      "cell_type": "code",
      "source": [
        "concepts_rg_0 = get_concepts(max_planck, 0)\n",
        "concepts_rg_1 = get_concepts(max_planck, 1)\n",
        "concepts_rg_2 = get_concepts(max_planck, 2)"
      ],
      "metadata": {
        "id": "R6YthF9u9lfv"
      },
      "execution_count": 14,
      "outputs": []
    },
    {
      "cell_type": "code",
      "source": [
        "# Filter by author"
      ],
      "metadata": {
        "id": "tJSMKEOL8m6X"
      },
      "execution_count": 15,
      "outputs": []
    },
    {
      "cell_type": "code",
      "source": [
        "au_id = 'https://openalex.org/A2066982801'\n",
        "author_df = objeto[objeto['authorships'].apply(lambda l: any([ d.get('author').get('id')==au_id for d in l]))]\n",
        "author_df.shape"
      ],
      "metadata": {
        "id": "GlDfLqNu8zY7",
        "outputId": "1a53ad7d-9ce0-452c-b8b2-71b7908ea265",
        "colab": {
          "base_uri": "https://localhost:8080/"
        }
      },
      "execution_count": 16,
      "outputs": [
        {
          "output_type": "execute_result",
          "data": {
            "text/plain": [
              "(24, 25)"
            ]
          },
          "metadata": {},
          "execution_count": 16
        }
      ]
    },
    {
      "cell_type": "code",
      "source": [
        "concepts_au_0 = get_concepts(author_df, 0)\n",
        "concepts_au_1 = get_concepts(author_df, 1)\n",
        "concepts_au_2 = get_concepts(author_df, 2)"
      ],
      "metadata": {
        "id": "qaNLkUvp82P4"
      },
      "execution_count": 17,
      "outputs": []
    },
    {
      "cell_type": "code",
      "source": [
        "[concepts_au_0, concepts_rg_0]"
      ],
      "metadata": {
        "id": "oujtJ5au-YeU",
        "outputId": "c948abfc-521b-4f7f-b607-7440d5fec9d9",
        "colab": {
          "base_uri": "https://localhost:8080/"
        }
      },
      "execution_count": 18,
      "outputs": [
        {
          "output_type": "execute_result",
          "data": {
            "text/plain": [
              "[['Chemistry', 'Computer science', 'Materials science', 'Biology', 'Physics'],\n",
              " ['Computer science', 'Chemistry', 'Biology', 'Materials science', 'Physics']]"
            ]
          },
          "metadata": {},
          "execution_count": 18
        }
      ]
    },
    {
      "cell_type": "code",
      "source": [
        "[concepts_au_1, concepts_rg_1]"
      ],
      "metadata": {
        "colab": {
          "base_uri": "https://localhost:8080/"
        },
        "id": "qINmBbJE-7zR",
        "outputId": "2b0b703d-945b-4ead-b7e6-e2d5ad90cf9c"
      },
      "execution_count": 19,
      "outputs": [
        {
          "output_type": "execute_result",
          "data": {
            "text/plain": [
              "[['Computational biology',\n",
              "  'Biological system',\n",
              "  'Combinatorial chemistry',\n",
              "  'Artificial intelligence',\n",
              "  'Chemical physics',\n",
              "  'Computational chemistry',\n",
              "  'Stereochemistry',\n",
              "  'Algorithm',\n",
              "  'Statistical physics',\n",
              "  'Programming language',\n",
              "  'Nanotechnology',\n",
              "  'Molecular physics',\n",
              "  'Machine learning',\n",
              "  'Genetics',\n",
              "  'Condensed matter physics',\n",
              "  'Data mining',\n",
              "  'Crystallography',\n",
              "  'Biophysics',\n",
              "  'Bioinformatics',\n",
              "  'Biochemistry',\n",
              "  'Data science',\n",
              "  'Theoretical computer science'],\n",
              " ['Computational biology',\n",
              "  'Biological system',\n",
              "  'Artificial intelligence',\n",
              "  'Biochemistry',\n",
              "  'Data mining',\n",
              "  'Pharmacology',\n",
              "  'Combinatorial chemistry',\n",
              "  'Molecular biology',\n",
              "  'Genetics',\n",
              "  'Stereochemistry',\n",
              "  'Software engineering',\n",
              "  'Programming language',\n",
              "  'Neuroscience',\n",
              "  'Nanotechnology',\n",
              "  'Machine learning',\n",
              "  'Algorithm',\n",
              "  'Theoretical computer science',\n",
              "  'Crystallography',\n",
              "  'Computational chemistry',\n",
              "  'Chemical physics',\n",
              "  'Cell biology',\n",
              "  'Biophysics',\n",
              "  'Bioinformatics',\n",
              "  'Data science',\n",
              "  'Virology']]"
            ]
          },
          "metadata": {},
          "execution_count": 19
        }
      ]
    },
    {
      "cell_type": "code",
      "source": [
        "[concepts_au_2, concepts_rg_2]"
      ],
      "metadata": {
        "id": "ZXUZMVS1HQTi",
        "outputId": "f015d5b0-f435-49df-e924-cf7595365513",
        "colab": {
          "base_uri": "https://localhost:8080/"
        }
      },
      "execution_count": 20,
      "outputs": [
        {
          "output_type": "execute_result",
          "data": {
            "text/plain": [
              "[['Peptide',\n",
              "  'Cryo-electron microscopy',\n",
              "  'Molecular dynamics',\n",
              "  'Docking (animal)',\n",
              "  'Pharmacophore',\n",
              "  'Drug discovery',\n",
              "  'Particle (ecology)',\n",
              "  'Sequence (biology)',\n",
              "  'Resolution (logic)',\n",
              "  'Energy landscape',\n",
              "  'Python (programming language)',\n",
              "  'Energy (signal processing)',\n",
              "  'Observable',\n",
              "  'Pattern recognition (psychology)',\n",
              "  'Planar',\n",
              "  'Ab initio',\n",
              "  'Ring (chemistry)',\n",
              "  'Set (abstract data type)',\n",
              "  'Small molecule',\n",
              "  'Spectroscopy',\n",
              "  'Spin (aerodynamics)',\n",
              "  'Steric effects',\n",
              "  'Ranking (information retrieval)',\n",
              "  'Metastability',\n",
              "  'Ising model',\n",
              "  'Iterated function',\n",
              "  'Advice (programming)',\n",
              "  'Amyloid (mycology)',\n",
              "  'Antimicrobial',\n",
              "  'Biomolecule',\n",
              "  'Cheminformatics',\n",
              "  'Class (philosophy)',\n",
              "  'Cluster (spacecraft)',\n",
              "  'Key (lock)',\n",
              "  'Dimer',\n",
              "  'Electron microscope',\n",
              "  'Enzyme',\n",
              "  'Ferromagnetism',\n",
              "  'Fibril',\n",
              "  'Flexibility (engineering)',\n",
              "  'Force field (fiction)',\n",
              "  'Stoichiometry',\n",
              "  'Disulfide bond',\n",
              "  'Thin film'],\n",
              " ['Peptide',\n",
              "  'Molecular dynamics',\n",
              "  'Cryo-electron microscopy',\n",
              "  'Docking (animal)',\n",
              "  'Drug discovery',\n",
              "  'Enzyme',\n",
              "  'Sequence (biology)',\n",
              "  'Particle (ecology)',\n",
              "  'Resolution (logic)',\n",
              "  'Ranking (information retrieval)',\n",
              "  'Key (lock)',\n",
              "  'Python (programming language)',\n",
              "  'Pharmacophore',\n",
              "  'Metastability',\n",
              "  'Observable',\n",
              "  'Pattern recognition (psychology)',\n",
              "  'Advice (programming)',\n",
              "  'Scope (computer science)',\n",
              "  'Set (abstract data type)',\n",
              "  'Spectroscopy',\n",
              "  'Steric effects',\n",
              "  'Ring (chemistry)',\n",
              "  'Mechanism (biology)',\n",
              "  'Iterated function',\n",
              "  'Stoichiometry',\n",
              "  'Antimicrobial',\n",
              "  'Apoptosis',\n",
              "  'Biomolecule',\n",
              "  'Cheminformatics',\n",
              "  'Class (philosophy)',\n",
              "  'DOCK',\n",
              "  'Dimer',\n",
              "  'Domain (mathematical analysis)',\n",
              "  'Electron microscope',\n",
              "  'Energy (signal processing)',\n",
              "  'Energy landscape',\n",
              "  'Flexibility (engineering)',\n",
              "  'Fluorescence',\n",
              "  'Force field (fiction)',\n",
              "  'In vitro',\n",
              "  'Leishmaniasis',\n",
              "  'Toxoplasmosis']]"
            ]
          },
          "metadata": {},
          "execution_count": 20
        }
      ]
    },
    {
      "cell_type": "code",
      "source": [
        "concepts_0 = concepts_au_0"
      ],
      "metadata": {
        "id": "C7LmTpkTGPbD"
      },
      "execution_count": 21,
      "outputs": []
    },
    {
      "cell_type": "code",
      "source": [
        "concepts_1 = ['Computational biology',\n",
        " 'Biological system', \n",
        " ]"
      ],
      "metadata": {
        "id": "51Vg25uZ-p9f"
      },
      "execution_count": 22,
      "outputs": []
    },
    {
      "cell_type": "code",
      "source": [
        "concepts_2 = ['Cryo-electron microscopy',\n",
        "  'Molecular dynamics',\n",
        "]"
      ],
      "metadata": {
        "id": "JNjrhfW3GHYL"
      },
      "execution_count": 23,
      "outputs": []
    },
    {
      "cell_type": "code",
      "source": [
        "#cp=pd.read_excel('https://docs.google.com/spreadsheets/d/e/2PACX-1vT9JrvUwanM-z-hCZ1SSaxRx2wfzLV3RVvm5BJaf8TABBmpIwKt7iYt1sVLbImVevh9YNaZK9Y7sfI9/pub?output=xlsx')"
      ],
      "metadata": {
        "id": "aaTgYfjsXOBp"
      },
      "execution_count": 24,
      "outputs": []
    },
    {
      "cell_type": "code",
      "source": [
        "#cp[cp['level']==1][cp['parent_display_names'].astype(str).str.contains('Physics')].shape"
      ],
      "metadata": {
        "id": "2VG6QzNtIgxU"
      },
      "execution_count": 25,
      "outputs": []
    },
    {
      "cell_type": "code",
      "source": [
        "#ph1=cp[ (cp['level']==1) & (cp['parent_display_names'].astype(str).str.contains('Physics')) \n",
        "#      ]['display_name'].to_list()\n",
        "\n",
        "#ph2=cp[(cp['level']==2) & (cp['parent_display_names'].astype(str).str.split(', ').apply(\n",
        "#    lambda l: set(l).intersection(set(ph1))).apply(len)>0)]['display_name'].to_list()"
      ],
      "metadata": {
        "id": "ii63f9eOYEkW"
      },
      "execution_count": 26,
      "outputs": []
    },
    {
      "cell_type": "code",
      "source": [
        "def filter_level_0(concepts):\n",
        "    return any([any([concept.lower() in d.get('display_name').lower() for concept in concepts_0 if 0 == d.get('level')]) for d in concepts])"
      ],
      "metadata": {
        "id": "vhAv_drARCCO"
      },
      "execution_count": 27,
      "outputs": []
    },
    {
      "cell_type": "code",
      "source": [
        "def filter_level_1(concepts):\n",
        "    return any([any([concept.lower() in d.get('display_name').lower() for concept in concepts_1 if 1 == d.get('level')]) for d in concepts])"
      ],
      "metadata": {
        "id": "xuYqx3txR5nh"
      },
      "execution_count": 28,
      "outputs": []
    },
    {
      "cell_type": "code",
      "source": [
        "def filter_level_2(concepts):\n",
        "    return any([any([concept.lower() in d.get('display_name').lower() for concept in concepts_2 if 2 == d.get('level')]) for d in concepts])"
      ],
      "metadata": {
        "id": "uf7r25fERFWH"
      },
      "execution_count": 29,
      "outputs": []
    },
    {
      "cell_type": "code",
      "source": [
        "level_0_df = objeto.copy()\n",
        "level_0_df = level_0_df[level_0_df['concepts'].apply(filter_level_0)]"
      ],
      "metadata": {
        "id": "a5ibsAE3NjiY"
      },
      "execution_count": 30,
      "outputs": []
    },
    {
      "cell_type": "code",
      "source": [
        "level_0_df.shape"
      ],
      "metadata": {
        "id": "aIrfm6yD7SoP",
        "outputId": "3137cec9-89f9-421e-a362-2a699d27e5c2",
        "colab": {
          "base_uri": "https://localhost:8080/"
        }
      },
      "execution_count": 31,
      "outputs": [
        {
          "output_type": "execute_result",
          "data": {
            "text/plain": [
              "(11333, 25)"
            ]
          },
          "metadata": {},
          "execution_count": 31
        }
      ]
    },
    {
      "cell_type": "code",
      "source": [
        "level_1_df = level_0_df.copy()\n",
        "level_1_df = level_1_df[level_1_df['concepts'].apply(filter_level_1)]"
      ],
      "metadata": {
        "id": "W3_RBdm1RYU8"
      },
      "execution_count": 32,
      "outputs": []
    },
    {
      "cell_type": "code",
      "source": [
        "level_1_df.shape"
      ],
      "metadata": {
        "id": "zQGqy2T2RTe-",
        "outputId": "2a548cde-69ec-4499-a3e9-2fa3ed26e46e",
        "colab": {
          "base_uri": "https://localhost:8080/"
        }
      },
      "execution_count": 33,
      "outputs": [
        {
          "output_type": "execute_result",
          "data": {
            "text/plain": [
              "(206, 25)"
            ]
          },
          "metadata": {},
          "execution_count": 33
        }
      ]
    },
    {
      "cell_type": "code",
      "source": [
        "level_2_df = level_1_df.copy()\n",
        "level_2_df = level_2_df[level_2_df['concepts'].apply(filter_level_2)]"
      ],
      "metadata": {
        "id": "NhRqqC5DvZTm"
      },
      "execution_count": 34,
      "outputs": []
    },
    {
      "cell_type": "code",
      "source": [
        "level_2_df.shape"
      ],
      "metadata": {
        "id": "rp7e2XZN50QE",
        "outputId": "86a86822-a1ec-4c2a-a1ca-3528126bdfa2",
        "colab": {
          "base_uri": "https://localhost:8080/"
        }
      },
      "execution_count": 35,
      "outputs": [
        {
          "output_type": "execute_result",
          "data": {
            "text/plain": [
              "(9, 25)"
            ]
          },
          "metadata": {},
          "execution_count": 35
        }
      ]
    },
    {
      "cell_type": "code",
      "source": [
        "for author, paper in zip(level_2_df['authorships'], level_2_df['title']):\n",
        "    print('Paper: ', paper)\n",
        "    print('\\n')\n",
        "    for a in author:\n",
        "        print(a.get('author'))\n",
        "        print(a.get('raw_affiliation_string'))\n",
        "    print('\\n')"
      ],
      "metadata": {
        "id": "F-xQLYc14_8y",
        "outputId": "a902e0f3-3882-42d7-dfb2-d207cc4751b0",
        "colab": {
          "base_uri": "https://localhost:8080/"
        }
      },
      "execution_count": 36,
      "outputs": [
        {
          "output_type": "stream",
          "name": "stdout",
          "text": [
            "Paper:  The Role of Spike Protein Mutations in the Infectious Power of SARS‐COV‐2 Variants: A Molecular Interaction Perspective\n",
            "\n",
            "\n",
            "{'id': 'https://openalex.org/A3087943295', 'display_name': 'Santiago A. Gómez', 'orcid': 'https://orcid.org/0000-0002-5430-9228'}\n",
            "Instituto de Química Universidad de Antioquia UdeA Calle 70 No. 52–21 050010 Medellín Colombia\n",
            "{'id': 'https://openalex.org/A2556239558', 'display_name': 'Natalia Rojas-Valencia', 'orcid': 'https://orcid.org/0000-0002-7380-3010'}\n",
            "Escuela de Ciencias y Humanidades Departamento de Ciencias B'ásicas Universidad Eafit AA  3300 Medellín Colombia\n",
            "{'id': 'https://openalex.org/A2282867238', 'display_name': 'Sara Gómez', 'orcid': 'https://orcid.org/0000-0002-5430-9228'}\n",
            "Scuola Normale Superiore Classe di Scienze Piazza dei Cavalieri 7 56126 Pisa Italy\n",
            "{'id': 'https://openalex.org/A2108226408', 'display_name': 'Chiara Cappelli', 'orcid': 'https://orcid.org/0000-0001-7590-6227'}\n",
            "Scuola Normale Superiore Classe di Scienze Piazza dei Cavalieri 7 56126 Pisa Italy\n",
            "{'id': 'https://openalex.org/A2112893292', 'display_name': 'Albeiro Restrepo', 'orcid': 'https://orcid.org/0000-0002-5430-9228'}\n",
            "Instituto de Química Universidad de Antioquia UdeA Calle 70 No. 52–21 050010 Medellín Colombia\n",
            "\n",
            "\n",
            "Paper:  A Bayesian approach to extracting free-energy profiles from cryo-electron microscopy experiments\n",
            "\n",
            "\n",
            "{'id': 'https://openalex.org/A3126670673', 'display_name': 'Julian Giraldo-Barreto', 'orcid': 'https://orcid.org/0000-0003-2675-1913'}\n",
            "Magnetism and Simulation Group, University of Antioquia UdeA, Medellín, Colombia\n",
            "{'id': 'https://openalex.org/A2965861519', 'display_name': 'Sebastian Ortiz', 'orcid': None}\n",
            "Biophysics of Tropical Diseases, Max Planck Tandem Group, University of Antioquia UdeA, Medellin, Colombia.\n",
            "{'id': 'https://openalex.org/A2499266676', 'display_name': 'Erik H. Thiede', 'orcid': 'https://orcid.org/0000-0002-5666-1372'}\n",
            "Center for Computational Mathematics, Flatiron Institute, New York City, USA\n",
            "{'id': 'https://openalex.org/A2925330260', 'display_name': 'Karen Palacio-Rodriguez', 'orcid': 'https://orcid.org/0000-0003-4327-8478'}\n",
            "Institut de Minéralogie, de Physique des Matériaux et de Cosmochimie, Sorbonne Université, Paris, France\n",
            "{'id': 'https://openalex.org/A2921799764', 'display_name': 'Bob Carpenter', 'orcid': None}\n",
            "Center for Computational Mathematics, Flatiron Institute, New York City, USA\n",
            "{'id': 'https://openalex.org/A2140208656', 'display_name': 'Alex H. Barnett', 'orcid': None}\n",
            "Center for Computational Mathematics, Flatiron Institute, New York City, USA\n",
            "{'id': 'https://openalex.org/A2066982801', 'display_name': 'Pilar Cossio', 'orcid': 'https://orcid.org/0000-0002-5404-9948'}\n",
            "Biophysics of Tropical Diseases, Max Planck Tandem Group, University of Antioquia UdeA, Medellin, Colombia.\n",
            "\n",
            "\n",
            "Paper:  Impact of Structural Observables From Simulations to Predict the Effect of Single-Point Mutations in MHC Class II Peptide Binders\n",
            "\n",
            "\n",
            "{'id': 'https://openalex.org/A2131867902', 'display_name': 'Rodrigo Ochoa', 'orcid': 'https://orcid.org/0000-0003-0734-2196'}\n",
            "Biophysics of Tropical Diseases, Max Planck Tandem Group, University of Antioquia UdeA, Medellin, Colombia.\n",
            "{'id': 'https://openalex.org/A2779763793', 'display_name': 'Roman A. Laskowski', 'orcid': 'https://orcid.org/0000-0001-5528-0087'}\n",
            "European Molecular Biology Laboratory - European Bioinformatics Institute (EMBL-EBI), Cambridge, United Kingdom.\n",
            "{'id': 'https://openalex.org/A2128937995', 'display_name': 'Janet M. Thornton', 'orcid': 'https://orcid.org/0000-0003-0824-4096'}\n",
            "European Molecular Biology Laboratory - European Bioinformatics Institute (EMBL-EBI), Cambridge, United Kingdom.\n",
            "{'id': 'https://openalex.org/A2066982801', 'display_name': 'Pilar Cossio', 'orcid': 'https://orcid.org/0000-0002-5404-9948'}\n",
            "Biophysics of Tropical Diseases, Max Planck Tandem Group, University of Antioquia UdeA, Medellin, Colombia.\n",
            "\n",
            "\n",
            "Paper:  PARCE: Protocol for Amino acid Refinement through Computational Evolution\n",
            "\n",
            "\n",
            "{'id': 'https://openalex.org/A2131867902', 'display_name': 'Rodrigo Ochoa', 'orcid': 'https://orcid.org/0000-0003-0734-2196'}\n",
            "Biophysics of Tropical Diseases, Max Planck Tandem Group, University of Antioquia, 050010, Medellín, Colombia.\n",
            "{'id': 'https://openalex.org/A2170927650', 'display_name': 'Miguel A. Soler', 'orcid': 'https://orcid.org/0000-0002-5780-9949'}\n",
            "Italian Institute of Technology (IIT), Via Melen 83, B Block, 16152, Genova, Italy\n",
            "{'id': 'https://openalex.org/A1628530126', 'display_name': 'Alessandro Laio', 'orcid': 'https://orcid.org/0000-0001-9164-7907'}\n",
            "International School for Advanced Studies (SISSA), Via Bonomea 265, I-34136 Trieste, Italy\n",
            "{'id': 'https://openalex.org/A2066982801', 'display_name': 'Pilar Cossio', 'orcid': 'https://orcid.org/0000-0002-5404-9948'}\n",
            "Biophysics of Tropical Diseases, Max Planck Tandem Group, University of Antioquia, 050010 Medellin, Colombia\n",
            "\n",
            "\n",
            "Paper:  PARCE: Protocol for Amino acid Refinement through Computational Evolution\n",
            "\n",
            "\n",
            "{'id': 'https://openalex.org/A2131867902', 'display_name': 'Rodrigo Ochoa', 'orcid': 'https://orcid.org/0000-0003-0734-2196'}\n",
            "Biophysics of Tropical Diseases, Max Planck Tandem Group, University of Antioquia, 050010, Medellín, Colombia.\n",
            "{'id': 'https://openalex.org/A2170927650', 'display_name': 'Miguel A. Soler', 'orcid': 'https://orcid.org/0000-0002-5780-9949'}\n",
            "Italian Institute of Technology (IIT), Via Melen 83, B Block, 16152, Genova, Italy\n",
            "{'id': 'https://openalex.org/A1628530126', 'display_name': 'Alessandro Laio', 'orcid': 'https://orcid.org/0000-0001-9164-7907'}\n",
            "International School for Advanced Studies (SISSA), Via Bonomea 265, I-34136 Trieste, Italy\n",
            "{'id': 'https://openalex.org/A2066982801', 'display_name': 'Pilar Cossio', 'orcid': 'https://orcid.org/0000-0002-5404-9948'}\n",
            "Biophysics of Tropical Diseases, Max Planck Tandem Group, University of Antioquia, 050010 Medellin, Colombia\n",
            "\n",
            "\n",
            "Paper:  Flexi-pharma: a molecule-ranking strategy for virtual screening using pharmacophores from ligand-free conformational ensembles\n",
            "\n",
            "\n",
            "{'id': 'https://openalex.org/A2091554600', 'display_name': 'Isaias Lans', 'orcid': 'https://orcid.org/0000-0002-9298-0346'}\n",
            "Biophysics of Tropical Diseases, Max Planck Tandem Group, University of Antioquia UdeA, Calle 70 No. 52-21, Medellín, Colombia\n",
            "{'id': 'https://openalex.org/A2925330260', 'display_name': 'Karen Palacio-Rodriguez', 'orcid': 'https://orcid.org/0000-0003-4327-8478'}\n",
            "Biophysics of Tropical Diseases, Max Planck Tandem Group, University of Antioquia UdeA, Calle 70 No. 52-21, Medellín, Colombia\n",
            "{'id': 'https://openalex.org/A46368055', 'display_name': 'Claudio N. Cavasotto', 'orcid': 'https://orcid.org/0000-0002-1372-0379'}\n",
            "Facultad de Ciencias Biomédicas, and Facultad de Ingeniería, Universidad Austral, Pilar, Buenos Aires, Argentina.\n",
            "{'id': 'https://openalex.org/A2066982801', 'display_name': 'Pilar Cossio', 'orcid': 'https://orcid.org/0000-0002-5404-9948'}\n",
            "Biophysics of Tropical Diseases, Max Planck Tandem Group, University of Antioquia UdeA, Medellin, Colombia.\n",
            "\n",
            "\n",
            "Paper:  Molecular dynamics simulations of Alzheimer's BACE1 and BACE2 transmembrane domains in neurons: Impact of cholesterol\n",
            "\n",
            "\n",
            "{'id': 'https://openalex.org/A3003444571', 'display_name': 'Juan Carlos Cruz-Jiménez', 'orcid': 'https://orcid.org/0000-0002-7790-7546'}\n",
            "Universidad de los Andes, Bogota, COLOMBIA\n",
            "{'id': 'https://openalex.org/A3003827309', 'display_name': 'Marcela Mercado-Montoya', 'orcid': 'https://orcid.org/0000-0002-1453-4690'}\n",
            "UNIVERSIDAD DE ANTIOQUIA MEDELLÍN - COLOMBIA\n",
            "{'id': 'https://openalex.org/A3010934508', 'display_name': 'Carlos Eduardo Ostos-Ortíz', 'orcid': 'https://orcid.org/0000-0003-0983-1823'}\n",
            "UNIVERSIDAD DE ANTIOQUIA MEDELLÍN - COLOMBIA\n",
            "{'id': 'https://openalex.org/A2617707398', 'display_name': 'Alher Mauricio Hernández-Valdivieso', 'orcid': 'https://orcid.org/0000-0003-1132-5794'}\n",
            "UNIVERSIDAD DE ANTIOQUIA MEDELLÍN - COLOMBIA\n",
            "\n",
            "\n",
            "Paper:  Likelihood-based structural analysis of electron microscopy images\n",
            "\n",
            "\n",
            "{'id': 'https://openalex.org/A2066982801', 'display_name': 'Pilar Cossio', 'orcid': 'https://orcid.org/0000-0002-5404-9948'}\n",
            "Biophysics of Tropical Diseases, Max Planck Tandem Group, University of Antioquia, Medellin, Colombia\n",
            "{'id': 'https://openalex.org/A2300117732', 'display_name': 'Gerhard Hummer', 'orcid': 'https://orcid.org/0000-0001-7768-746X'}\n",
            "Department of Theoretical Biophysics, Max Planck Institute of Biophysics, 60438 Frankfurt am Main, Germany; Institute of Biophysics, Goethe University Frankfurt, 60438 Frankfurt am Main, Germany.\n",
            "\n",
            "\n",
            "Paper:  Direct Experimental Determination of Spectral Densities of Molecular Complexes\n",
            "\n",
            "\n",
            "{'id': 'https://openalex.org/A2507921751', 'display_name': 'Leonardo A. Pachon', 'orcid': 'https://orcid.org/0000-0002-3458-1910'}\n",
            "Grupo de Física Atómica y Molecular, Instituto de Física, Facultad de Ciencias Exactas y Naturales, Universidad de Antioquia UdeA, Calle 70 No. 52-21, Medellín, Colombia.\n",
            "{'id': 'https://openalex.org/A428319138', 'display_name': 'Paul Brumer', 'orcid': 'https://orcid.org/0000-0002-4763-2393'}\n",
            "Chemical Physics Theory Group, Department of Chemistry, and Center for Quantum Information and Quantum Control, University of Toronto, Toronto, Ontario, M5S 3H6, Canada.\n",
            "\n",
            "\n"
          ]
        }
      ]
    },
    {
      "cell_type": "code",
      "source": [
        "level_2_df['title']"
      ],
      "metadata": {
        "id": "dsOBWoyUBh2a",
        "colab": {
          "base_uri": "https://localhost:8080/"
        },
        "outputId": "dcc42d42-29b5-4d9b-e794-90b3f2fe4d45"
      },
      "execution_count": 37,
      "outputs": [
        {
          "output_type": "execute_result",
          "data": {
            "text/plain": [
              "4061      The Role of Spike Protein Mutations in the Inf...\n",
              "19305     A Bayesian approach to extracting free-energy ...\n",
              "25280     Impact of Structural Observables From Simulati...\n",
              "26584     PARCE: Protocol for Amino acid Refinement thro...\n",
              "33332     PARCE: Protocol for Amino acid Refinement thro...\n",
              "43031     Flexi-pharma: a molecule-ranking strategy for ...\n",
              "50442     Molecular dynamics simulations of Alzheimer's ...\n",
              "94752     Likelihood-based structural analysis of electr...\n",
              "175151    Direct Experimental Determination of Spectral ...\n",
              "Name: title, dtype: object"
            ]
          },
          "metadata": {},
          "execution_count": 37
        }
      ]
    },
    {
      "cell_type": "code",
      "source": [
        "affiliations = level_2_df['authorships'].apply(lambda authorships: [d.get('raw_affiliation_string') for d in authorships]).to_list()"
      ],
      "metadata": {
        "id": "NJZgBhK0SDBH"
      },
      "execution_count": 38,
      "outputs": []
    },
    {
      "cell_type": "code",
      "source": [
        "mask = [any(['biophysics' in str(group).lower() for group in affiliation]) for affiliation in affiliations]"
      ],
      "metadata": {
        "id": "Vyn-fgvySHqZ"
      },
      "execution_count": 39,
      "outputs": []
    },
    {
      "cell_type": "code",
      "source": [
        "final_df = level_2_df[mask]"
      ],
      "metadata": {
        "id": "GNQ8k5PVVqBO"
      },
      "execution_count": 40,
      "outputs": []
    },
    {
      "cell_type": "code",
      "source": [
        "final_df = final_df.drop(33332)"
      ],
      "metadata": {
        "id": "k50r7BFobQzg"
      },
      "execution_count": 41,
      "outputs": []
    },
    {
      "cell_type": "code",
      "source": [
        "for author, paper in zip(final_df['authorships'], final_df['title']):\n",
        "    print('Paper: ', paper)\n",
        "    print('\\n')\n",
        "    for a in author:\n",
        "        print(a.get('author'))\n",
        "        print(a.get('raw_affiliation_string'))\n",
        "    print('\\n')"
      ],
      "metadata": {
        "id": "maCjn_hXVwKd",
        "outputId": "11cf9cfa-8209-4d99-d4d7-3bb5ce7f0a0c",
        "colab": {
          "base_uri": "https://localhost:8080/"
        }
      },
      "execution_count": 46,
      "outputs": [
        {
          "output_type": "stream",
          "name": "stdout",
          "text": [
            "Paper:  A Bayesian approach to extracting free-energy profiles from cryo-electron microscopy experiments\n",
            "\n",
            "\n",
            "{'id': 'https://openalex.org/A3126670673', 'display_name': 'Julian Giraldo-Barreto', 'orcid': 'https://orcid.org/0000-0003-2675-1913'}\n",
            "Magnetism and Simulation Group, University of Antioquia UdeA, Medellín, Colombia\n",
            "{'id': 'https://openalex.org/A2965861519', 'display_name': 'Sebastian Ortiz', 'orcid': None}\n",
            "Biophysics of Tropical Diseases, Max Planck Tandem Group, University of Antioquia UdeA, Medellin, Colombia.\n",
            "{'id': 'https://openalex.org/A2499266676', 'display_name': 'Erik H. Thiede', 'orcid': 'https://orcid.org/0000-0002-5666-1372'}\n",
            "Center for Computational Mathematics, Flatiron Institute, New York City, USA\n",
            "{'id': 'https://openalex.org/A2925330260', 'display_name': 'Karen Palacio-Rodriguez', 'orcid': 'https://orcid.org/0000-0003-4327-8478'}\n",
            "Institut de Minéralogie, de Physique des Matériaux et de Cosmochimie, Sorbonne Université, Paris, France\n",
            "{'id': 'https://openalex.org/A2921799764', 'display_name': 'Bob Carpenter', 'orcid': None}\n",
            "Center for Computational Mathematics, Flatiron Institute, New York City, USA\n",
            "{'id': 'https://openalex.org/A2140208656', 'display_name': 'Alex H. Barnett', 'orcid': None}\n",
            "Center for Computational Mathematics, Flatiron Institute, New York City, USA\n",
            "{'id': 'https://openalex.org/A2066982801', 'display_name': 'Pilar Cossio', 'orcid': 'https://orcid.org/0000-0002-5404-9948'}\n",
            "Biophysics of Tropical Diseases, Max Planck Tandem Group, University of Antioquia UdeA, Medellin, Colombia.\n",
            "\n",
            "\n",
            "Paper:  Impact of Structural Observables From Simulations to Predict the Effect of Single-Point Mutations in MHC Class II Peptide Binders\n",
            "\n",
            "\n",
            "{'id': 'https://openalex.org/A2131867902', 'display_name': 'Rodrigo Ochoa', 'orcid': 'https://orcid.org/0000-0003-0734-2196'}\n",
            "Biophysics of Tropical Diseases, Max Planck Tandem Group, University of Antioquia UdeA, Medellin, Colombia.\n",
            "{'id': 'https://openalex.org/A2779763793', 'display_name': 'Roman A. Laskowski', 'orcid': 'https://orcid.org/0000-0001-5528-0087'}\n",
            "European Molecular Biology Laboratory - European Bioinformatics Institute (EMBL-EBI), Cambridge, United Kingdom.\n",
            "{'id': 'https://openalex.org/A2128937995', 'display_name': 'Janet M. Thornton', 'orcid': 'https://orcid.org/0000-0003-0824-4096'}\n",
            "European Molecular Biology Laboratory - European Bioinformatics Institute (EMBL-EBI), Cambridge, United Kingdom.\n",
            "{'id': 'https://openalex.org/A2066982801', 'display_name': 'Pilar Cossio', 'orcid': 'https://orcid.org/0000-0002-5404-9948'}\n",
            "Biophysics of Tropical Diseases, Max Planck Tandem Group, University of Antioquia UdeA, Medellin, Colombia.\n",
            "\n",
            "\n",
            "Paper:  PARCE: Protocol for Amino acid Refinement through Computational Evolution\n",
            "\n",
            "\n",
            "{'id': 'https://openalex.org/A2131867902', 'display_name': 'Rodrigo Ochoa', 'orcid': 'https://orcid.org/0000-0003-0734-2196'}\n",
            "Biophysics of Tropical Diseases, Max Planck Tandem Group, University of Antioquia, 050010, Medellín, Colombia.\n",
            "{'id': 'https://openalex.org/A2170927650', 'display_name': 'Miguel A. Soler', 'orcid': 'https://orcid.org/0000-0002-5780-9949'}\n",
            "Italian Institute of Technology (IIT), Via Melen 83, B Block, 16152, Genova, Italy\n",
            "{'id': 'https://openalex.org/A1628530126', 'display_name': 'Alessandro Laio', 'orcid': 'https://orcid.org/0000-0001-9164-7907'}\n",
            "International School for Advanced Studies (SISSA), Via Bonomea 265, I-34136 Trieste, Italy\n",
            "{'id': 'https://openalex.org/A2066982801', 'display_name': 'Pilar Cossio', 'orcid': 'https://orcid.org/0000-0002-5404-9948'}\n",
            "Biophysics of Tropical Diseases, Max Planck Tandem Group, University of Antioquia, 050010 Medellin, Colombia\n",
            "\n",
            "\n",
            "Paper:  Flexi-pharma: a molecule-ranking strategy for virtual screening using pharmacophores from ligand-free conformational ensembles\n",
            "\n",
            "\n",
            "{'id': 'https://openalex.org/A2091554600', 'display_name': 'Isaias Lans', 'orcid': 'https://orcid.org/0000-0002-9298-0346'}\n",
            "Biophysics of Tropical Diseases, Max Planck Tandem Group, University of Antioquia UdeA, Calle 70 No. 52-21, Medellín, Colombia\n",
            "{'id': 'https://openalex.org/A2925330260', 'display_name': 'Karen Palacio-Rodriguez', 'orcid': 'https://orcid.org/0000-0003-4327-8478'}\n",
            "Biophysics of Tropical Diseases, Max Planck Tandem Group, University of Antioquia UdeA, Calle 70 No. 52-21, Medellín, Colombia\n",
            "{'id': 'https://openalex.org/A46368055', 'display_name': 'Claudio N. Cavasotto', 'orcid': 'https://orcid.org/0000-0002-1372-0379'}\n",
            "Facultad de Ciencias Biomédicas, and Facultad de Ingeniería, Universidad Austral, Pilar, Buenos Aires, Argentina.\n",
            "{'id': 'https://openalex.org/A2066982801', 'display_name': 'Pilar Cossio', 'orcid': 'https://orcid.org/0000-0002-5404-9948'}\n",
            "Biophysics of Tropical Diseases, Max Planck Tandem Group, University of Antioquia UdeA, Medellin, Colombia.\n",
            "\n",
            "\n",
            "Paper:  Likelihood-based structural analysis of electron microscopy images\n",
            "\n",
            "\n",
            "{'id': 'https://openalex.org/A2066982801', 'display_name': 'Pilar Cossio', 'orcid': 'https://orcid.org/0000-0002-5404-9948'}\n",
            "Biophysics of Tropical Diseases, Max Planck Tandem Group, University of Antioquia, Medellin, Colombia\n",
            "{'id': 'https://openalex.org/A2300117732', 'display_name': 'Gerhard Hummer', 'orcid': 'https://orcid.org/0000-0001-7768-746X'}\n",
            "Department of Theoretical Biophysics, Max Planck Institute of Biophysics, 60438 Frankfurt am Main, Germany; Institute of Biophysics, Goethe University Frankfurt, 60438 Frankfurt am Main, Germany.\n",
            "\n",
            "\n"
          ]
        }
      ]
    },
    {
      "cell_type": "code",
      "source": [
        "final_df.shape"
      ],
      "metadata": {
        "id": "tOHGQpYec_Sy",
        "outputId": "48aa6134-f982-4a59-904a-a832515ff589",
        "colab": {
          "base_uri": "https://localhost:8080/"
        }
      },
      "execution_count": 47,
      "outputs": [
        {
          "output_type": "execute_result",
          "data": {
            "text/plain": [
              "(5, 25)"
            ]
          },
          "metadata": {},
          "execution_count": 47
        }
      ]
    },
    {
      "cell_type": "code",
      "source": [
        "final_df.to_json('biophysics_papers.json', orient='records')"
      ],
      "metadata": {
        "id": "8pA13_vvjLbd"
      },
      "execution_count": 48,
      "outputs": []
    },
    {
      "cell_type": "code",
      "source": [
        "!ls"
      ],
      "metadata": {
        "id": "7cUj4W3P_EJb",
        "outputId": "bf9606cb-3d01-4731-cd6a-75de73d7d5b1",
        "colab": {
          "base_uri": "https://localhost:8080/"
        }
      },
      "execution_count": null,
      "outputs": [
        {
          "output_type": "stream",
          "name": "stdout",
          "text": [
            "biophysics_papers.json\tdrive  sample_data\n"
          ]
        }
      ]
    },
    {
      "cell_type": "code",
      "source": [],
      "metadata": {
        "id": "W-hjTrYr_FcI"
      },
      "execution_count": null,
      "outputs": []
    }
  ],
  "metadata": {
    "kernelspec": {
      "display_name": "Python 3.9.12 ('comp_avanz')",
      "language": "python",
      "name": "python3"
    },
    "language_info": {
      "codemirror_mode": {
        "name": "ipython",
        "version": 3
      },
      "file_extension": ".py",
      "mimetype": "text/x-python",
      "name": "python",
      "nbconvert_exporter": "python",
      "pygments_lexer": "ipython3",
      "version": "3.9.12"
    },
    "orig_nbformat": 4,
    "vscode": {
      "interpreter": {
        "hash": "add0685a1965005be9be0975996da26f37d5472cceef27ccf55a2f3f6645711f"
      }
    },
    "colab": {
      "provenance": [],
      "include_colab_link": true
    }
  },
  "nbformat": 4,
  "nbformat_minor": 0
}