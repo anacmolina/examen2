{
 "cells": [
  {
   "cell_type": "code",
   "execution_count": 1,
   "metadata": {},
   "outputs": [],
   "source": [
    "import pandas as pd\n",
    "import json"
   ]
  },
  {
   "cell_type": "code",
   "execution_count": 2,
   "metadata": {},
   "outputs": [],
   "source": [
    "df=pd.read_excel('/home/ana/Documents/Maestría en Física UdeA/semestre_1/OpenAlex concepts in use (17 August 2022).xlsx')"
   ]
  },
  {
   "cell_type": "code",
   "execution_count": 3,
   "metadata": {},
   "outputs": [],
   "source": [
    "physics = df[df.parent_display_names=='Physics']"
   ]
  },
  {
   "cell_type": "code",
   "execution_count": 4,
   "metadata": {},
   "outputs": [
    {
     "data": {
      "text/plain": [
       "23        Quantum electrodynamics\n",
       "24     Nuclear magnetic resonance\n",
       "32            Statistical physics\n",
       "44            Theoretical physics\n",
       "71                 Thermodynamics\n",
       "72                Nuclear physics\n",
       "88                         Optics\n",
       "129                     Acoustics\n",
       "151                     Astronomy\n",
       "160         Computational physics\n",
       "199                Atomic physics\n",
       "214                     Mechanics\n",
       "225             Quantum mechanics\n",
       "244           Classical mechanics\n",
       "249                  Astrophysics\n",
       "275      Condensed matter physics\n",
       "299              Particle physics\n",
       "Name: display_name, dtype: object"
      ]
     },
     "execution_count": 4,
     "metadata": {},
     "output_type": "execute_result"
    }
   ],
   "source": [
    "physics.display_name"
   ]
  },
  {
   "cell_type": "code",
   "execution_count": null,
   "metadata": {},
   "outputs": [],
   "source": [
    "df_data = pd.read_json('/home/ana/Documents/Maestría en Física UdeA/semestre_1/openalexco.json')"
   ]
  },
  {
   "cell_type": "code",
   "execution_count": null,
   "metadata": {},
   "outputs": [],
   "source": []
  }
 ],
 "metadata": {
  "kernelspec": {
   "display_name": "Python 3.9.12 ('comp_avanz')",
   "language": "python",
   "name": "python3"
  },
  "language_info": {
   "codemirror_mode": {
    "name": "ipython",
    "version": 3
   },
   "file_extension": ".py",
   "mimetype": "text/x-python",
   "name": "python",
   "nbconvert_exporter": "python",
   "pygments_lexer": "ipython3",
   "version": "3.9.12"
  },
  "orig_nbformat": 4,
  "vscode": {
   "interpreter": {
    "hash": "add0685a1965005be9be0975996da26f37d5472cceef27ccf55a2f3f6645711f"
   }
  }
 },
 "nbformat": 4,
 "nbformat_minor": 2
}
